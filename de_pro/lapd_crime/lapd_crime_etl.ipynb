{
 "cells": [
  {
   "cell_type": "markdown",
   "metadata": {},
   "source": [
    "### ETL of raw data into clean data"
   ]
  },
  {
   "cell_type": "code",
   "execution_count": 37,
   "metadata": {
    "collapsed": false
   },
   "outputs": [],
   "source": [
    "import json\n",
    "import re"
   ]
  },
  {
   "cell_type": "code",
   "execution_count": 10,
   "metadata": {
    "collapsed": false
   },
   "outputs": [
    {
     "name": "stdout",
     "output_type": "stream",
     "text": [
      "228017\n"
     ]
    }
   ],
   "source": [
    "with open('./data/LAPD_Crime_and_Collision_Raw_Data.json') as crime_json:    \n",
    "    crime_json = json.load(crime_json)\n",
    "    crime_data = crime_json['data']\n",
    "    print len(crime_data)"
   ]
  },
  {
   "cell_type": "code",
   "execution_count": 44,
   "metadata": {
    "collapsed": false
   },
   "outputs": [],
   "source": [
    "for crime_row in crime_data:\n",
    "    crime_dict = {}\n",
    "    crime_dict['date_occ'] = crime_row[10].strip() if crime_row[10] is not None else None\n",
    "    crime_dict['time_occ'] = crime_row[11].strip() if crime_row[11] is not None else None\n",
    "    crime_dict['area'] = crime_row[12].strip() if crime_row[12] is not None else None\n",
    "    crime_dict['area_name'] = crime_row[13].strip() if crime_row[13] is not None else None\n",
    "    crime_dict['road'] = crime_row[14].strip() if crime_row[14] is not None else None\n",
    "    crime_dict['crime_code'] = crime_row[15].strip() if crime_row[15] is not None else None\n",
    "    crime_dict['crime_desc'] = crime_row[16].strip() if crime_row[16] is not None else None\n",
    "    crime_dict['location'] = re.sub(' +', '', crime_row[19].strip()) if crime_row[19] is not None else None\n",
    "    crime_dict['cross_street'] = crime_row[20].strip() if crime_row[20] is not None else None\n",
    "    crime_dict['cross_street'] = re.sub(' +', '', crime_dict['cross_street']) if crime_dict['cross_street'] is not None else None\n",
    "    crime_dict['latitude'] = crime_row[21][1].strip()\n",
    "    crime_dict['longitude'] = crime_row[21][2].strip()\n",
    "    with open('./data/lapd_clean_Data.json', 'a') as clean_data:\n",
    "        json.dump(crime_dict, clean_data)\n",
    "        clean_data.write(\"\\n\"); "
   ]
  },
  {
   "cell_type": "markdown",
   "metadata": {},
   "source": [
    "### Load data into spark"
   ]
  },
  {
   "cell_type": "code",
   "execution_count": 45,
   "metadata": {
    "collapsed": true
   },
   "outputs": [],
   "source": [
    "from pyspark import SparkContext"
   ]
  },
  {
   "cell_type": "code",
   "execution_count": 46,
   "metadata": {
    "collapsed": true
   },
   "outputs": [],
   "source": [
    "from pyspark.sql import SQLContext"
   ]
  },
  {
   "cell_type": "code",
   "execution_count": 47,
   "metadata": {
    "collapsed": false
   },
   "outputs": [],
   "source": [
    "sqlContext = SQLContext(sc)"
   ]
  },
  {
   "cell_type": "code",
   "execution_count": 48,
   "metadata": {
    "collapsed": false
   },
   "outputs": [],
   "source": [
    "crime = sqlContext.read.json('./data/lapd_clean_Data.json')"
   ]
  },
  {
   "cell_type": "code",
   "execution_count": 49,
   "metadata": {
    "collapsed": false
   },
   "outputs": [
    {
     "name": "stdout",
     "output_type": "stream",
     "text": [
      "root\n",
      " |-- area: string (nullable = true)\n",
      " |-- area_name: string (nullable = true)\n",
      " |-- crime_code: string (nullable = true)\n",
      " |-- crime_desc: string (nullable = true)\n",
      " |-- cross_street: string (nullable = true)\n",
      " |-- date_occ: string (nullable = true)\n",
      " |-- latitude: string (nullable = true)\n",
      " |-- location: string (nullable = true)\n",
      " |-- longitude: string (nullable = true)\n",
      " |-- road: string (nullable = true)\n",
      " |-- time_occ: string (nullable = true)\n",
      "\n"
     ]
    }
   ],
   "source": [
    "crime.printSchema()"
   ]
  },
  {
   "cell_type": "markdown",
   "metadata": {},
   "source": [
    "1. Top areas with the most serious crime\n",
    "1. Top time with the most serious crime in one place\n",
    "3. Top crime occurence within one time\n",
    "4. Top crime types in one place"
   ]
  },
  {
   "cell_type": "markdown",
   "metadata": {},
   "source": [
    "### Spark Streaming"
   ]
  },
  {
   "cell_type": "code",
   "execution_count": null,
   "metadata": {
    "collapsed": true
   },
   "outputs": [],
   "source": [
    "\n",
    "from pyspark.streaming import StreamingContext\n",
    "# Create a local StreamingContext with two working thread and batch interval of 1 second\n",
    "ssc = StreamingContext(sc, 2)"
   ]
  },
  {
   "cell_type": "code",
   "execution_count": null,
   "metadata": {
    "collapsed": true
   },
   "outputs": [],
   "source": [
    "# Discretized Streams\n",
    "lines = ssc.socketTextStream(\"localhost\", 9999)\n",
    "words = lines.flatMap(lambda line: line.split(\" \"))"
   ]
  },
  {
   "cell_type": "code",
   "execution_count": null,
   "metadata": {
    "collapsed": true
   },
   "outputs": [],
   "source": [
    "# Count each word in each batch\n",
    "pairs = words.map(lambda word: (word, 1))\n",
    "wordCounts = pairs.reduceByKey(lambda x, y: x + y)\n",
    "\n",
    "# Print the first ten elements of each RDD generated in this DStream to the console\n",
    "wordCounts.pprint()"
   ]
  },
  {
   "cell_type": "code",
   "execution_count": null,
   "metadata": {
    "collapsed": true
   },
   "outputs": [],
   "source": [
    "ssc.start()             # Start the computation\n",
    "ssc.awaitTermination()  # Wait for the computation to terminate"
   ]
  }
 ],
 "metadata": {
  "kernelspec": {
   "display_name": "Python 2",
   "language": "python",
   "name": "python2"
  },
  "language_info": {
   "codemirror_mode": {
    "name": "ipython",
    "version": 2
   },
   "file_extension": ".py",
   "mimetype": "text/x-python",
   "name": "python",
   "nbconvert_exporter": "python",
   "pygments_lexer": "ipython2",
   "version": "2.7.10"
  },
  "widgets": {
   "state": {},
   "version": "1.1.2"
  }
 },
 "nbformat": 4,
 "nbformat_minor": 0
}
