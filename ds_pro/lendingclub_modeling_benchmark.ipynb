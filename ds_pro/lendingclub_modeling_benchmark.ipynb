{
 "cells": [
  {
   "cell_type": "code",
   "execution_count": 1,
   "metadata": {
    "collapsed": true
   },
   "outputs": [],
   "source": [
    "import numpy as np\n",
    "import pandas as pd\n",
    "import matplotlib.pyplot as plt\n",
    "%matplotlib inline\n",
    "import seaborn as sns\n",
    "pd.options.display.max_columns = None"
   ]
  },
  {
   "cell_type": "code",
   "execution_count": 6,
   "metadata": {
    "collapsed": false
   },
   "outputs": [],
   "source": [
    "loans = pd.read_csv('./data/loans.w1.csv', index_col=None)"
   ]
  },
  {
   "cell_type": "code",
   "execution_count": 7,
   "metadata": {
    "collapsed": false
   },
   "outputs": [],
   "source": [
    "loans.fillna(0, inplace=True)"
   ]
  },
  {
   "cell_type": "markdown",
   "metadata": {},
   "source": [
    "### Label encoding"
   ]
  },
  {
   "cell_type": "code",
   "execution_count": 8,
   "metadata": {
    "collapsed": true
   },
   "outputs": [],
   "source": [
    "from sklearn.preprocessing import LabelEncoder"
   ]
  },
  {
   "cell_type": "code",
   "execution_count": 9,
   "metadata": {
    "collapsed": true
   },
   "outputs": [],
   "source": [
    "# transform label into charged off and non-charged-off \n",
    "loans['loan_status'][loans.loan_status != 'Charged Off'] = 'Paid'"
   ]
  },
  {
   "cell_type": "code",
   "execution_count": 10,
   "metadata": {
    "collapsed": true
   },
   "outputs": [],
   "source": [
    "# function to label encoding, and output label mapping\n",
    "def label_encoding(full_data, cols, label_col):\n",
    "    label_mapping = {}\n",
    "    for col in cols:\n",
    "        print(\"Label encoding column: %s\" % (col))\n",
    "        LBL = LabelEncoder()\n",
    "        LBL.fit(full_data[col])\n",
    "        if col == label_col:\n",
    "            label_mapping = dict(zip(full_data[label_col].unique(), LBL.transform(full_data[label_col].unique())))\n",
    "            print(\"Label mapping: %s\" % (label_mapping))\n",
    "        full_data[col] = LBL.transform(full_data[col])\n",
    "        \n",
    "    return label_mapping"
   ]
  },
  {
   "cell_type": "code",
   "execution_count": 11,
   "metadata": {
    "collapsed": false
   },
   "outputs": [
    {
     "name": "stdout",
     "output_type": "stream",
     "text": [
      "Label encoding column: loan_amnt\n",
      "Label encoding column: term\n",
      "Label encoding column: int_rate\n",
      "Label encoding column: installment\n",
      "Label encoding column: grade\n",
      "Label encoding column: sub_grade\n",
      "Label encoding column: emp_title\n",
      "Label encoding column: emp_length\n",
      "Label encoding column: home_ownership\n",
      "Label encoding column: annual_inc\n",
      "Label encoding column: verification_status\n",
      "Label encoding column: issue_d\n",
      "Label encoding column: loan_status\n",
      "Label mapping: {'Charged Off': 0, 'Paid': 1}\n",
      "Label encoding column: pymnt_plan\n",
      "Label encoding column: desc\n",
      "Label encoding column: purpose\n",
      "Label encoding column: title\n",
      "Label encoding column: zip_code\n",
      "Label encoding column: addr_state\n",
      "Label encoding column: dti\n",
      "Label encoding column: delinq_2yrs\n",
      "Label encoding column: inq_last_6mths\n",
      "Label encoding column: mths_since_last_delinq\n",
      "Label encoding column: mths_since_last_record\n",
      "Label encoding column: open_acc\n",
      "Label encoding column: pub_rec\n",
      "Label encoding column: revol_bal\n",
      "Label encoding column: revol_util\n",
      "Label encoding column: total_acc\n",
      "Label encoding column: initial_list_status\n",
      "Label encoding column: out_prncp\n",
      "Label encoding column: out_prncp_inv\n",
      "Label encoding column: collections_12_mths_ex_med\n",
      "Label encoding column: mths_since_last_major_derog\n",
      "Label encoding column: annual_inc_joint\n",
      "Label encoding column: dti_joint\n",
      "Label encoding column: verification_status_joint\n",
      "Label encoding column: acc_now_delinq\n",
      "Label encoding column: tot_coll_amt\n",
      "Label encoding column: tot_cur_bal\n",
      "Label encoding column: open_acc_6m\n",
      "Label encoding column: open_il_6m\n",
      "Label encoding column: open_il_12m\n",
      "Label encoding column: open_il_24m\n",
      "Label encoding column: mths_since_rcnt_il\n",
      "Label encoding column: total_bal_il\n",
      "Label encoding column: il_util\n",
      "Label encoding column: open_rv_12m\n",
      "Label encoding column: open_rv_24m\n",
      "Label encoding column: max_bal_bc\n",
      "Label encoding column: all_util\n",
      "Label encoding column: total_rev_hi_lim\n",
      "Label encoding column: inq_fi\n",
      "Label encoding column: total_cu_tl\n",
      "Label encoding column: inq_last_12m\n",
      "Label encoding column: acc_open_past_24mths\n",
      "Label encoding column: avg_cur_bal\n",
      "Label encoding column: bc_open_to_buy\n",
      "Label encoding column: bc_util\n",
      "Label encoding column: chargeoff_within_12_mths\n",
      "Label encoding column: delinq_amnt\n",
      "Label encoding column: mo_sin_old_il_acct\n",
      "Label encoding column: mo_sin_old_rev_tl_op\n",
      "Label encoding column: mo_sin_rcnt_rev_tl_op\n",
      "Label encoding column: mo_sin_rcnt_tl\n",
      "Label encoding column: mort_acc\n",
      "Label encoding column: mths_since_recent_bc\n",
      "Label encoding column: mths_since_recent_bc_dlq\n",
      "Label encoding column: mths_since_recent_inq\n",
      "Label encoding column: mths_since_recent_revol_delinq\n",
      "Label encoding column: num_accts_ever_120_pd\n",
      "Label encoding column: num_actv_bc_tl\n",
      "Label encoding column: num_actv_rev_tl\n",
      "Label encoding column: num_bc_sats\n",
      "Label encoding column: num_bc_tl\n",
      "Label encoding column: num_il_tl\n",
      "Label encoding column: num_op_rev_tl\n",
      "Label encoding column: num_rev_accts\n",
      "Label encoding column: num_rev_tl_bal_gt_0\n",
      "Label encoding column: num_sats\n",
      "Label encoding column: num_tl_120dpd_2m\n",
      "Label encoding column: num_tl_30dpd\n",
      "Label encoding column: num_tl_90g_dpd_24m\n",
      "Label encoding column: num_tl_op_past_12m\n",
      "Label encoding column: pct_tl_nvr_dlq\n",
      "Label encoding column: percent_bc_gt_75\n",
      "Label encoding column: pub_rec_bankruptcies\n",
      "Label encoding column: tax_liens\n",
      "Label encoding column: tot_hi_cred_lim\n",
      "Label encoding column: total_bal_ex_mort\n",
      "Label encoding column: total_bc_limit\n",
      "Label encoding column: total_il_high_credit_limit\n",
      "Label encoding column: cr_len\n"
     ]
    }
   ],
   "source": [
    "label_mapping = label_encoding(loans, loans.dtypes.index, 'loan_status')"
   ]
  },
  {
   "cell_type": "code",
   "execution_count": 12,
   "metadata": {
    "collapsed": false
   },
   "outputs": [
    {
     "data": {
      "text/plain": [
       "{'Charged Off': 0, 'Paid': 1}"
      ]
     },
     "execution_count": 12,
     "metadata": {},
     "output_type": "execute_result"
    }
   ],
   "source": [
    "label_mapping"
   ]
  },
  {
   "cell_type": "code",
   "execution_count": 13,
   "metadata": {
    "collapsed": false
   },
   "outputs": [
    {
     "data": {
      "text/plain": [
       "9     14536\n",
       "6     12711\n",
       "3      9466\n",
       "4      9041\n",
       "0      8620\n",
       "2      8470\n",
       "10     8448\n",
       "7      7973\n",
       "1      7909\n",
       "5      7764\n",
       "8      4242\n",
       "11     3270\n",
       "Name: issue_d, dtype: int64"
      ]
     },
     "execution_count": 13,
     "metadata": {},
     "output_type": "execute_result"
    }
   ],
   "source": [
    "loans.issue_d.value_counts()"
   ]
  },
  {
   "cell_type": "markdown",
   "metadata": {},
   "source": [
    "### Train and Test split"
   ]
  },
  {
   "cell_type": "code",
   "execution_count": 14,
   "metadata": {
    "collapsed": false
   },
   "outputs": [
    {
     "name": "stdout",
     "output_type": "stream",
     "text": [
      "(102450, 92) (102450,)\n"
     ]
    }
   ],
   "source": [
    "loans_y = loans['loan_status']\n",
    "loans_X = loans.drop('loan_status', axis=1)\n",
    "print loans_X.shape, loans_y.shape"
   ]
  },
  {
   "cell_type": "code",
   "execution_count": 15,
   "metadata": {
    "collapsed": false
   },
   "outputs": [
    {
     "data": {
      "text/plain": [
       "99180"
      ]
     },
     "execution_count": 15,
     "metadata": {},
     "output_type": "execute_result"
    }
   ],
   "source": [
    "len(loans_X[loans_X.issue_d <= 10])"
   ]
  },
  {
   "cell_type": "code",
   "execution_count": 16,
   "metadata": {
    "collapsed": true
   },
   "outputs": [],
   "source": [
    "loans_X[loans_X.issue_d <= 10].drop('issue_d', axis=1, inplace=True)"
   ]
  },
  {
   "cell_type": "code",
   "execution_count": 17,
   "metadata": {
    "collapsed": false
   },
   "outputs": [
    {
     "name": "stdout",
     "output_type": "stream",
     "text": [
      "(99180, 91) (99180,)\n"
     ]
    }
   ],
   "source": [
    "# use 1-10 as train data, 11, 12 as test data\n",
    "X_train = loans_X[loans_X.issue_d <= 10].drop('issue_d', axis=1, inplace=False)\n",
    "y_train = loans_y[loans_X.issue_d <= 10]\n",
    "print X_train.shape, y_train.shape"
   ]
  },
  {
   "cell_type": "code",
   "execution_count": 18,
   "metadata": {
    "collapsed": false
   },
   "outputs": [
    {
     "name": "stdout",
     "output_type": "stream",
     "text": [
      "(3270, 91) (3270,)\n"
     ]
    }
   ],
   "source": [
    "X_vali = loans_X[loans_X.issue_d > 10].drop('issue_d', axis=1, inplace=False)\n",
    "y_vali = loans_y[loans_X.issue_d > 10]\n",
    "print X_vali.shape, y_vali.shape"
   ]
  },
  {
   "cell_type": "markdown",
   "metadata": {},
   "source": [
    "### Assumptions of Logistic regression\n",
    "http://www.statisticssolutions.com/assumptions-of-logistic-regression/"
   ]
  },
  {
   "cell_type": "markdown",
   "metadata": {},
   "source": [
    "__Assumptions:__\n",
    "    \n",
    "- Binary logistic regression requires the dependent variable to be binary and ordinal logistic regression requires the dependent variable to be ordinal. \n",
    "- Since logistic regression assumes that P(Y=1) is the probability of the event occurring, it is necessary that the dependent variable is coded accordingly. sklearn pakcage has already taken care of this.\n",
    "- The model should be fitted correctly.  That is not only the meaningful variables should be included, but also all meaningful variables should be included. A good approach to ensure this is to use a stepwise method to estimate the logistic regression, or we could use L1 to penalize the model.\n",
    "- Each observation need to be independent.\n",
    "- Lastly, it requires quite large sample sizes."
   ]
  },
  {
   "cell_type": "markdown",
   "metadata": {},
   "source": [
    "__Model Tuning:__ \n",
    " \n",
    "- L1 norm, penalize the sum of absolute weights, control the balance of fit and sparsity. Higher l1, sparser model, lower l1, more dense model.\n",
    "\n",
    "- L2 norm, penalize the sume of squared weights, control the balance of fit and coefficient magnitude. Higher l2, smaller weights and less tendency to overfitting; lower l2, higher weights and more tendency to overfitting."
   ]
  },
  {
   "cell_type": "code",
   "execution_count": 19,
   "metadata": {
    "collapsed": true
   },
   "outputs": [],
   "source": [
    "from sklearn.linear_model import LogisticRegression\n",
    "from sklearn.metrics import roc_auc_score, roc_curve, auc"
   ]
  },
  {
   "cell_type": "code",
   "execution_count": 20,
   "metadata": {
    "collapsed": false
   },
   "outputs": [
    {
     "name": "stdout",
     "output_type": "stream",
     "text": [
      "0.543045520768\n"
     ]
    }
   ],
   "source": [
    "lgr = LogisticRegression(penalty='l2', random_state=101)\n",
    "lgr = lgr.fit(X_train, y_train)\n",
    "preds = lgr.predict(X_vali)\n",
    "score = roc_auc_score(y_vali, preds)\n",
    "print score"
   ]
  },
  {
   "cell_type": "code",
   "execution_count": 21,
   "metadata": {
    "collapsed": true
   },
   "outputs": [],
   "source": [
    "false_positive_rate, true_positive_rate, thresholds = roc_curve(y_vali, preds)\n",
    "roc_auc = auc(false_positive_rate, true_positive_rate)"
   ]
  },
  {
   "cell_type": "code",
   "execution_count": 22,
   "metadata": {
    "collapsed": false
   },
   "outputs": [
    {
     "data": {
      "image/png": "[encoded data removed]",
      "text/plain": [
       "<matplotlib.figure.Figure at 0x10c5f1290>"
      ]
     },
     "metadata": {},
     "output_type": "display_data"
    }
   ],
   "source": [
    "plt.title('Receiver Operating Characteristic')\n",
    "plt.plot(false_positive_rate, true_positive_rate, 'b',\n",
    "label='AUC = %0.2f'% roc_auc)\n",
    "plt.legend(loc='lower right')\n",
    "plt.plot([0,1],[0,1],'r--')\n",
    "plt.xlim([-0.1,1.2])\n",
    "plt.ylim([-0.1,1.2])\n",
    "plt.ylabel('True Positive Rate')\n",
    "plt.xlabel('False Positive Rate')\n",
    "plt.show()"
   ]
  },
  {
   "cell_type": "markdown",
   "metadata": {},
   "source": [
    "### ElasticNet"
   ]
  },
  {
   "cell_type": "code",
   "execution_count": 23,
   "metadata": {
    "collapsed": true
   },
   "outputs": [],
   "source": [
    "from sklearn.linear_model import ElasticNet\n",
    "from sklearn.grid_search import GridSearchCV"
   ]
  },
  {
   "cell_type": "code",
   "execution_count": 24,
   "metadata": {
    "collapsed": true
   },
   "outputs": [],
   "source": [
    "def alpha_search(train_X, train_y, test_X, test_y, alpha = [0.00001, 0.0001, 0.001, 0.1, 1, 10, 100, 1000, 10000]):\n",
    "    for a in alpha:\n",
    "        elasticNet = ElasticNet(alpha=a)\n",
    "        elasticNet.fit(train_X, train_y)\n",
    "        pred = elasticNet.predict(test_X)\n",
    "        false_positive_rate, true_positive_rate, thresholds = roc_curve(test_y, pred)\n",
    "        roc_auc = auc(false_positive_rate, true_positive_rate)\n",
    "        print \"alpha {} :     score: {}\".format(a, roc_auc)"
   ]
  },
  {
   "cell_type": "code",
   "execution_count": 25,
   "metadata": {
    "collapsed": false
   },
   "outputs": [
    {
     "name": "stdout",
     "output_type": "stream",
     "text": [
      "alpha 1e-05 :     score: 0.762051036185\n",
      "alpha 0.0001 :     score: 0.762103687846\n",
      "alpha 0.001 :     score: 0.762273412026\n",
      "alpha 0.1 :     score: 0.754113643346\n",
      "alpha 1 :     score: 0.745516246444\n",
      "alpha 10 :     score: 0.700131443325\n",
      "alpha 100 :     score: 0.637443136206\n",
      "alpha 1000 :     score: 0.558772572077\n",
      "alpha 10000 :     score: 0.5\n"
     ]
    }
   ],
   "source": [
    "alpha_search(X_train, y_train, X_vali, y_vali)"
   ]
  },
  {
   "cell_type": "code",
   "execution_count": 26,
   "metadata": {
    "collapsed": false
   },
   "outputs": [],
   "source": [
    "elasticNet = ElasticNet(alpha=0.001)\n",
    "elasticNet.fit(X_train, y_train)\n",
    "preds = elasticNet.predict(X_vali)\n",
    "false_positive_rate, true_positive_rate, thresholds = roc_curve(y_vali, preds)\n",
    "roc_auc = auc(false_positive_rate, true_positive_rate)"
   ]
  },
  {
   "cell_type": "markdown",
   "metadata": {},
   "source": [
    "### Plot the roc curve"
   ]
  },
  {
   "cell_type": "code",
   "execution_count": 27,
   "metadata": {
    "collapsed": false
   },
   "outputs": [
    {
     "data": {
      "image/png": "[encoded data removed]",
      "text/plain": [
       "<matplotlib.figure.Figure at 0x10c919950>"
      ]
     },
     "metadata": {},
     "output_type": "display_data"
    }
   ],
   "source": [
    "plt.title('Receiver Operating Characteristic')\n",
    "plt.plot(false_positive_rate, true_positive_rate, 'b',\n",
    "label='AUC = %0.2f'% roc_auc)\n",
    "plt.legend(loc='lower right')\n",
    "plt.plot([0,1],[0,1],'r--')\n",
    "plt.xlim([-0.1,1.2])\n",
    "plt.ylim([-0.1,1.2])\n",
    "plt.ylabel('True Positive Rate')\n",
    "plt.xlabel('False Positive Rate')\n",
    "plt.show()"
   ]
  }
 ],
 "metadata": {
  "kernelspec": {
   "display_name": "Python 2",
   "language": "python",
   "name": "python2"
  },
  "language_info": {
   "codemirror_mode": {
    "name": "ipython",
    "version": 2
   },
   "file_extension": ".py",
   "mimetype": "text/x-python",
   "name": "python",
   "nbconvert_exporter": "python",
   "pygments_lexer": "ipython2",
   "version": "2.7.10"
  },
  "widgets": {
   "state": {},
   "version": "1.1.2"
  }
 },
 "nbformat": 4,
 "nbformat_minor": 0
}
