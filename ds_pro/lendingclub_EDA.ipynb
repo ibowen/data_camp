{
 "cells": [
  {
   "cell_type": "code",
   "execution_count": 55,
   "metadata": {
    "collapsed": true
   },
   "outputs": [],
   "source": [
    "import numpy as np\n",
    "import pandas as pd\n",
    "import matplotlib.pyplot as plt\n",
    "%matplotlib inline\n",
    "import seaborn as sns\n",
    "pd.options.display.max_columns = None"
   ]
  },
  {
   "cell_type": "markdown",
   "metadata": {
    "collapsed": true
   },
   "source": [
    "### Load the data"
   ]
  },
  {
   "cell_type": "code",
   "execution_count": 56,
   "metadata": {
    "collapsed": true
   },
   "outputs": [],
   "source": [
    "date_cols = ['issue_d', 'earliest_cr_line', 'last_pymnt_d', 'next_pymnt_d', 'last_credit_pull_d']"
   ]
  },
  {
   "cell_type": "code",
   "execution_count": 57,
   "metadata": {
    "collapsed": false,
    "scrolled": false
   },
   "outputs": [],
   "source": [
    "data = pd.read_csv(\"./LoanStats3c.csv\", header=1, parse_dates=date_cols, infer_datetime_format=True)"
   ]
  },
  {
   "cell_type": "code",
   "execution_count": 58,
   "metadata": {
    "collapsed": false
   },
   "outputs": [
    {
     "data": {
      "text/plain": [
       "(235631, 111)"
      ]
     },
     "execution_count": 58,
     "metadata": {},
     "output_type": "execute_result"
    }
   ],
   "source": [
    "data.shape"
   ]
  },
  {
   "cell_type": "markdown",
   "metadata": {},
   "source": [
    "### Check categorical features"
   ]
  },
  {
   "cell_type": "code",
   "execution_count": 59,
   "metadata": {
    "collapsed": false
   },
   "outputs": [],
   "source": [
    "# remove indexing features of id and member_id\n",
    "# remove url, not quite useful\n",
    "loans = data.drop(['id', 'member_id', 'url'], axis=1)"
   ]
  },
  {
   "cell_type": "code",
   "execution_count": 60,
   "metadata": {
    "collapsed": false
   },
   "outputs": [
    {
     "name": "stdout",
     "output_type": "stream",
     "text": [
      "term                   object\n",
      "int_rate               object\n",
      "grade                  object\n",
      "sub_grade              object\n",
      "emp_title              object\n",
      "emp_length             object\n",
      "home_ownership         object\n",
      "verification_status    object\n",
      "loan_status            object\n",
      "pymnt_plan             object\n",
      "desc                   object\n",
      "purpose                object\n",
      "title                  object\n",
      "zip_code               object\n",
      "addr_state             object\n",
      "revol_util             object\n",
      "initial_list_status    object\n",
      "application_type       object\n",
      "dtype: object\n",
      "         term int_rate grade sub_grade                       emp_title  \\\n",
      "0   60 months   12.39%     C        C1                      MANAGEMENT   \n",
      "1   36 months    6.99%     A        A3  Truck Driver Delivery Personel   \n",
      "2   60 months   17.14%     D        D4       Senior Sales Professional   \n",
      "3   36 months   13.66%     C        C3            Technical Specialist   \n",
      "4   36 months   13.66%     C        C3                Admin Specialist   \n",
      "\n",
      "  emp_length home_ownership verification_status  loan_status pymnt_plan desc  \\\n",
      "0  10+ years           RENT     Source Verified   Fully Paid          n  NaN   \n",
      "1    8 years       MORTGAGE        Not Verified      Current          n  NaN   \n",
      "2  10+ years       MORTGAGE            Verified      Current          n  NaN   \n",
      "3   < 1 year           RENT     Source Verified  Charged Off          n  NaN   \n",
      "4  10+ years           RENT     Source Verified   Fully Paid          n  NaN   \n",
      "\n",
      "              purpose                    title zip_code addr_state revol_util  \\\n",
      "0  debt_consolidation       Debt consolidation    235xx         VA        29%   \n",
      "1         credit_card  Credit card refinancing    937xx         CA      31.6%   \n",
      "2                 car            Car financing    953xx         CA     100.9%   \n",
      "3  debt_consolidation       Debt consolidation    850xx         AZ      91.9%   \n",
      "4  debt_consolidation       Debt consolidation    077xx         NJ      59.4%   \n",
      "\n",
      "  initial_list_status application_type  \n",
      "0                   w       INDIVIDUAL  \n",
      "1                   w       INDIVIDUAL  \n",
      "2                   w       INDIVIDUAL  \n",
      "3                   f       INDIVIDUAL  \n",
      "4                   f       INDIVIDUAL  \n"
     ]
    }
   ],
   "source": [
    "# transform object type into numeric\n",
    "object_cols = loans.dtypes[loans.dtypes == 'object']\n",
    "print object_cols\n",
    "print loans[object_cols.index].head()"
   ]
  },
  {
   "cell_type": "code",
   "execution_count": 61,
   "metadata": {
    "collapsed": false
   },
   "outputs": [
    {
     "name": "stdout",
     "output_type": "stream",
     "text": [
      "0    60.0\n",
      "1    36.0\n",
      "2    60.0\n",
      "3    36.0\n",
      "4    36.0\n",
      "Name: term, dtype: float64\n"
     ]
    }
   ],
   "source": [
    "# transform int_rate into numeric ie. 60 months => 60\n",
    "loans.term = pd.to_numeric(loans.term.str[:3])\n",
    "print(loans.term.head())"
   ]
  },
  {
   "cell_type": "code",
   "execution_count": 62,
   "metadata": {
    "collapsed": false
   },
   "outputs": [
    {
     "name": "stdout",
     "output_type": "stream",
     "text": [
      "0    12.39\n",
      "1     6.99\n",
      "2    17.14\n",
      "3    13.66\n",
      "4    13.66\n",
      "Name: int_rate, dtype: float64\n"
     ]
    }
   ],
   "source": [
    "# transform term into numeric ie. 12.39% => 12.39\n",
    "loans.int_rate = pd.to_numeric(loans.int_rate.str[:-1])\n",
    "print(loans.int_rate.head())"
   ]
  },
  {
   "cell_type": "code",
   "execution_count": 63,
   "metadata": {
    "collapsed": false
   },
   "outputs": [
    {
     "name": "stdout",
     "output_type": "stream",
     "text": [
      "0    10.0\n",
      "1     8.0\n",
      "2    10.0\n",
      "3     1.0\n",
      "4    10.0\n",
      "Name: emp_length, dtype: float64\n"
     ]
    }
   ],
   "source": [
    "# transform emp_length into numeric ie. 10+ years => 10.0\n",
    "loans.emp_length = loans.emp_length.str.extract(\"(\\d+)\", expand=False).map(float)\n",
    "print(loans.emp_length.head())"
   ]
  },
  {
   "cell_type": "code",
   "execution_count": 64,
   "metadata": {
    "collapsed": false
   },
   "outputs": [
    {
     "name": "stdout",
     "output_type": "stream",
     "text": [
      "0     29.0\n",
      "1     31.6\n",
      "2    100.9\n",
      "3     91.9\n",
      "4     59.4\n",
      "Name: revol_util, dtype: float64\n"
     ]
    }
   ],
   "source": [
    "# transform revol_util into numeric ie. 29% => 29\n",
    "loans.revol_util = pd.to_numeric(loans.revol_util.str[:-1])\n",
    "print(loans.revol_util.head())"
   ]
  },
  {
   "cell_type": "code",
   "execution_count": 65,
   "metadata": {
    "collapsed": false
   },
   "outputs": [],
   "source": [
    "# remove desc since it has too many NaNs, and the content is about the explanation of the field \"purpose\", which is redundant.\n",
    "# print sum(pd.isnull(loans.desc))\n",
    "# print loans.desc[-pd.isnull(loans.desc)].value_counts().head()\n",
    "# loans.drop('desc', axis=1, inplace=True)"
   ]
  },
  {
   "cell_type": "code",
   "execution_count": 66,
   "metadata": {
    "collapsed": false
   },
   "outputs": [
    {
     "name": "stdout",
     "output_type": "stream",
     "text": [
      "  grade sub_grade                       emp_title home_ownership  \\\n",
      "0     C        C1                      MANAGEMENT           RENT   \n",
      "1     A        A3  Truck Driver Delivery Personel       MORTGAGE   \n",
      "2     D        D4       Senior Sales Professional       MORTGAGE   \n",
      "3     C        C3            Technical Specialist           RENT   \n",
      "4     C        C3                Admin Specialist           RENT   \n",
      "\n",
      "  verification_status  loan_status pymnt_plan desc             purpose  \\\n",
      "0     Source Verified   Fully Paid          n  NaN  debt_consolidation   \n",
      "1        Not Verified      Current          n  NaN         credit_card   \n",
      "2            Verified      Current          n  NaN                 car   \n",
      "3     Source Verified  Charged Off          n  NaN  debt_consolidation   \n",
      "4     Source Verified   Fully Paid          n  NaN  debt_consolidation   \n",
      "\n",
      "                     title zip_code addr_state initial_list_status  \\\n",
      "0       Debt consolidation    235xx         VA                   w   \n",
      "1  Credit card refinancing    937xx         CA                   w   \n",
      "2            Car financing    953xx         CA                   w   \n",
      "3       Debt consolidation    850xx         AZ                   f   \n",
      "4       Debt consolidation    077xx         NJ                   f   \n",
      "\n",
      "  application_type  \n",
      "0       INDIVIDUAL  \n",
      "1       INDIVIDUAL  \n",
      "2       INDIVIDUAL  \n",
      "3       INDIVIDUAL  \n",
      "4       INDIVIDUAL  \n"
     ]
    }
   ],
   "source": [
    "print loans[loans.dtypes[loans.dtypes == 'object'].index].head()"
   ]
  },
  {
   "cell_type": "code",
   "execution_count": 67,
   "metadata": {
    "collapsed": true
   },
   "outputs": [],
   "source": [
    "# only keep zipcode's first three digits\n",
    "loans.zip_code = loans.zip_code.str[:3]"
   ]
  },
  {
   "cell_type": "markdown",
   "metadata": {},
   "source": [
    "- Check the NaN in categorical features"
   ]
  },
  {
   "cell_type": "code",
   "execution_count": 68,
   "metadata": {
    "collapsed": false
   },
   "outputs": [
    {
     "data": {
      "text/plain": [
       "grade                       2\n",
       "sub_grade                   2\n",
       "emp_title               13238\n",
       "home_ownership              2\n",
       "verification_status         2\n",
       "loan_status                 2\n",
       "pymnt_plan                  2\n",
       "desc                   220352\n",
       "purpose                     2\n",
       "title                       2\n",
       "zip_code                    2\n",
       "addr_state                  2\n",
       "initial_list_status         2\n",
       "application_type            2\n",
       "dtype: int64"
      ]
     },
     "execution_count": 68,
     "metadata": {},
     "output_type": "execute_result"
    }
   ],
   "source": [
    "pd.isnull(loans[loans.dtypes[loans.dtypes == 'object'].index]).sum()"
   ]
  },
  {
   "cell_type": "code",
   "execution_count": 69,
   "metadata": {
    "collapsed": true
   },
   "outputs": [],
   "source": [
    "# It makes sense taht NaNs in emp_titile could be explained as no input.\n",
    "# We can find all others have 2 NaNs, let's check if they are from the same row"
   ]
  },
  {
   "cell_type": "code",
   "execution_count": 70,
   "metadata": {
    "collapsed": false
   },
   "outputs": [
    {
     "data": {
      "text/html": [
       "<div>\n",
       "<table border=\"1\" class=\"dataframe\">\n",
       "  <thead>\n",
       "    <tr style=\"text-align: right;\">\n",
       "      <th></th>\n",
       "      <th>loan_amnt</th>\n",
       "      <th>funded_amnt</th>\n",
       "      <th>funded_amnt_inv</th>\n",
       "      <th>term</th>\n",
       "      <th>int_rate</th>\n",
       "      <th>installment</th>\n",
       "      <th>grade</th>\n",
       "      <th>sub_grade</th>\n",
       "      <th>emp_title</th>\n",
       "      <th>emp_length</th>\n",
       "      <th>home_ownership</th>\n",
       "      <th>annual_inc</th>\n",
       "      <th>verification_status</th>\n",
       "      <th>issue_d</th>\n",
       "      <th>loan_status</th>\n",
       "      <th>pymnt_plan</th>\n",
       "      <th>desc</th>\n",
       "      <th>purpose</th>\n",
       "      <th>title</th>\n",
       "      <th>zip_code</th>\n",
       "      <th>addr_state</th>\n",
       "      <th>dti</th>\n",
       "      <th>delinq_2yrs</th>\n",
       "      <th>earliest_cr_line</th>\n",
       "      <th>inq_last_6mths</th>\n",
       "      <th>mths_since_last_delinq</th>\n",
       "      <th>mths_since_last_record</th>\n",
       "      <th>open_acc</th>\n",
       "      <th>pub_rec</th>\n",
       "      <th>revol_bal</th>\n",
       "      <th>revol_util</th>\n",
       "      <th>total_acc</th>\n",
       "      <th>initial_list_status</th>\n",
       "      <th>out_prncp</th>\n",
       "      <th>out_prncp_inv</th>\n",
       "      <th>total_pymnt</th>\n",
       "      <th>total_pymnt_inv</th>\n",
       "      <th>total_rec_prncp</th>\n",
       "      <th>total_rec_int</th>\n",
       "      <th>total_rec_late_fee</th>\n",
       "      <th>recoveries</th>\n",
       "      <th>collection_recovery_fee</th>\n",
       "      <th>last_pymnt_d</th>\n",
       "      <th>last_pymnt_amnt</th>\n",
       "      <th>next_pymnt_d</th>\n",
       "      <th>last_credit_pull_d</th>\n",
       "      <th>collections_12_mths_ex_med</th>\n",
       "      <th>mths_since_last_major_derog</th>\n",
       "      <th>policy_code</th>\n",
       "      <th>application_type</th>\n",
       "      <th>annual_inc_joint</th>\n",
       "      <th>dti_joint</th>\n",
       "      <th>verification_status_joint</th>\n",
       "      <th>acc_now_delinq</th>\n",
       "      <th>tot_coll_amt</th>\n",
       "      <th>tot_cur_bal</th>\n",
       "      <th>open_acc_6m</th>\n",
       "      <th>open_il_6m</th>\n",
       "      <th>open_il_12m</th>\n",
       "      <th>open_il_24m</th>\n",
       "      <th>mths_since_rcnt_il</th>\n",
       "      <th>total_bal_il</th>\n",
       "      <th>il_util</th>\n",
       "      <th>open_rv_12m</th>\n",
       "      <th>open_rv_24m</th>\n",
       "      <th>max_bal_bc</th>\n",
       "      <th>all_util</th>\n",
       "      <th>total_rev_hi_lim</th>\n",
       "      <th>inq_fi</th>\n",
       "      <th>total_cu_tl</th>\n",
       "      <th>inq_last_12m</th>\n",
       "      <th>acc_open_past_24mths</th>\n",
       "      <th>avg_cur_bal</th>\n",
       "      <th>bc_open_to_buy</th>\n",
       "      <th>bc_util</th>\n",
       "      <th>chargeoff_within_12_mths</th>\n",
       "      <th>delinq_amnt</th>\n",
       "      <th>mo_sin_old_il_acct</th>\n",
       "      <th>mo_sin_old_rev_tl_op</th>\n",
       "      <th>mo_sin_rcnt_rev_tl_op</th>\n",
       "      <th>mo_sin_rcnt_tl</th>\n",
       "      <th>mort_acc</th>\n",
       "      <th>mths_since_recent_bc</th>\n",
       "      <th>mths_since_recent_bc_dlq</th>\n",
       "      <th>mths_since_recent_inq</th>\n",
       "      <th>mths_since_recent_revol_delinq</th>\n",
       "      <th>num_accts_ever_120_pd</th>\n",
       "      <th>num_actv_bc_tl</th>\n",
       "      <th>num_actv_rev_tl</th>\n",
       "      <th>num_bc_sats</th>\n",
       "      <th>num_bc_tl</th>\n",
       "      <th>num_il_tl</th>\n",
       "      <th>num_op_rev_tl</th>\n",
       "      <th>num_rev_accts</th>\n",
       "      <th>num_rev_tl_bal_gt_0</th>\n",
       "      <th>num_sats</th>\n",
       "      <th>num_tl_120dpd_2m</th>\n",
       "      <th>num_tl_30dpd</th>\n",
       "      <th>num_tl_90g_dpd_24m</th>\n",
       "      <th>num_tl_op_past_12m</th>\n",
       "      <th>pct_tl_nvr_dlq</th>\n",
       "      <th>percent_bc_gt_75</th>\n",
       "      <th>pub_rec_bankruptcies</th>\n",
       "      <th>tax_liens</th>\n",
       "      <th>tot_hi_cred_lim</th>\n",
       "      <th>total_bal_ex_mort</th>\n",
       "      <th>total_bc_limit</th>\n",
       "      <th>total_il_high_credit_limit</th>\n",
       "    </tr>\n",
       "  </thead>\n",
       "  <tbody>\n",
       "    <tr>\n",
       "      <th>235629</th>\n",
       "      <td>NaN</td>\n",
       "      <td>NaN</td>\n",
       "      <td>NaN</td>\n",
       "      <td>NaN</td>\n",
       "      <td>NaN</td>\n",
       "      <td>NaN</td>\n",
       "      <td>NaN</td>\n",
       "      <td>NaN</td>\n",
       "      <td>NaN</td>\n",
       "      <td>NaN</td>\n",
       "      <td>NaN</td>\n",
       "      <td>NaN</td>\n",
       "      <td>NaN</td>\n",
       "      <td>NaT</td>\n",
       "      <td>NaN</td>\n",
       "      <td>NaN</td>\n",
       "      <td>NaN</td>\n",
       "      <td>NaN</td>\n",
       "      <td>NaN</td>\n",
       "      <td>NaN</td>\n",
       "      <td>NaN</td>\n",
       "      <td>NaN</td>\n",
       "      <td>NaN</td>\n",
       "      <td>NaT</td>\n",
       "      <td>NaN</td>\n",
       "      <td>NaN</td>\n",
       "      <td>NaN</td>\n",
       "      <td>NaN</td>\n",
       "      <td>NaN</td>\n",
       "      <td>NaN</td>\n",
       "      <td>NaN</td>\n",
       "      <td>NaN</td>\n",
       "      <td>NaN</td>\n",
       "      <td>NaN</td>\n",
       "      <td>NaN</td>\n",
       "      <td>NaN</td>\n",
       "      <td>NaN</td>\n",
       "      <td>NaN</td>\n",
       "      <td>NaN</td>\n",
       "      <td>NaN</td>\n",
       "      <td>NaN</td>\n",
       "      <td>NaN</td>\n",
       "      <td>NaT</td>\n",
       "      <td>NaN</td>\n",
       "      <td>NaT</td>\n",
       "      <td>NaT</td>\n",
       "      <td>NaN</td>\n",
       "      <td>NaN</td>\n",
       "      <td>NaN</td>\n",
       "      <td>NaN</td>\n",
       "      <td>NaN</td>\n",
       "      <td>NaN</td>\n",
       "      <td>NaN</td>\n",
       "      <td>NaN</td>\n",
       "      <td>NaN</td>\n",
       "      <td>NaN</td>\n",
       "      <td>NaN</td>\n",
       "      <td>NaN</td>\n",
       "      <td>NaN</td>\n",
       "      <td>NaN</td>\n",
       "      <td>NaN</td>\n",
       "      <td>NaN</td>\n",
       "      <td>NaN</td>\n",
       "      <td>NaN</td>\n",
       "      <td>NaN</td>\n",
       "      <td>NaN</td>\n",
       "      <td>NaN</td>\n",
       "      <td>NaN</td>\n",
       "      <td>NaN</td>\n",
       "      <td>NaN</td>\n",
       "      <td>NaN</td>\n",
       "      <td>NaN</td>\n",
       "      <td>NaN</td>\n",
       "      <td>NaN</td>\n",
       "      <td>NaN</td>\n",
       "      <td>NaN</td>\n",
       "      <td>NaN</td>\n",
       "      <td>NaN</td>\n",
       "      <td>NaN</td>\n",
       "      <td>NaN</td>\n",
       "      <td>NaN</td>\n",
       "      <td>NaN</td>\n",
       "      <td>NaN</td>\n",
       "      <td>NaN</td>\n",
       "      <td>NaN</td>\n",
       "      <td>NaN</td>\n",
       "      <td>NaN</td>\n",
       "      <td>NaN</td>\n",
       "      <td>NaN</td>\n",
       "      <td>NaN</td>\n",
       "      <td>NaN</td>\n",
       "      <td>NaN</td>\n",
       "      <td>NaN</td>\n",
       "      <td>NaN</td>\n",
       "      <td>NaN</td>\n",
       "      <td>NaN</td>\n",
       "      <td>NaN</td>\n",
       "      <td>NaN</td>\n",
       "      <td>NaN</td>\n",
       "      <td>NaN</td>\n",
       "      <td>NaN</td>\n",
       "      <td>NaN</td>\n",
       "      <td>NaN</td>\n",
       "      <td>NaN</td>\n",
       "      <td>NaN</td>\n",
       "      <td>NaN</td>\n",
       "      <td>NaN</td>\n",
       "      <td>NaN</td>\n",
       "    </tr>\n",
       "    <tr>\n",
       "      <th>235630</th>\n",
       "      <td>NaN</td>\n",
       "      <td>NaN</td>\n",
       "      <td>NaN</td>\n",
       "      <td>NaN</td>\n",
       "      <td>NaN</td>\n",
       "      <td>NaN</td>\n",
       "      <td>NaN</td>\n",
       "      <td>NaN</td>\n",
       "      <td>NaN</td>\n",
       "      <td>NaN</td>\n",
       "      <td>NaN</td>\n",
       "      <td>NaN</td>\n",
       "      <td>NaN</td>\n",
       "      <td>NaT</td>\n",
       "      <td>NaN</td>\n",
       "      <td>NaN</td>\n",
       "      <td>NaN</td>\n",
       "      <td>NaN</td>\n",
       "      <td>NaN</td>\n",
       "      <td>NaN</td>\n",
       "      <td>NaN</td>\n",
       "      <td>NaN</td>\n",
       "      <td>NaN</td>\n",
       "      <td>NaT</td>\n",
       "      <td>NaN</td>\n",
       "      <td>NaN</td>\n",
       "      <td>NaN</td>\n",
       "      <td>NaN</td>\n",
       "      <td>NaN</td>\n",
       "      <td>NaN</td>\n",
       "      <td>NaN</td>\n",
       "      <td>NaN</td>\n",
       "      <td>NaN</td>\n",
       "      <td>NaN</td>\n",
       "      <td>NaN</td>\n",
       "      <td>NaN</td>\n",
       "      <td>NaN</td>\n",
       "      <td>NaN</td>\n",
       "      <td>NaN</td>\n",
       "      <td>NaN</td>\n",
       "      <td>NaN</td>\n",
       "      <td>NaN</td>\n",
       "      <td>NaT</td>\n",
       "      <td>NaN</td>\n",
       "      <td>NaT</td>\n",
       "      <td>NaT</td>\n",
       "      <td>NaN</td>\n",
       "      <td>NaN</td>\n",
       "      <td>NaN</td>\n",
       "      <td>NaN</td>\n",
       "      <td>NaN</td>\n",
       "      <td>NaN</td>\n",
       "      <td>NaN</td>\n",
       "      <td>NaN</td>\n",
       "      <td>NaN</td>\n",
       "      <td>NaN</td>\n",
       "      <td>NaN</td>\n",
       "      <td>NaN</td>\n",
       "      <td>NaN</td>\n",
       "      <td>NaN</td>\n",
       "      <td>NaN</td>\n",
       "      <td>NaN</td>\n",
       "      <td>NaN</td>\n",
       "      <td>NaN</td>\n",
       "      <td>NaN</td>\n",
       "      <td>NaN</td>\n",
       "      <td>NaN</td>\n",
       "      <td>NaN</td>\n",
       "      <td>NaN</td>\n",
       "      <td>NaN</td>\n",
       "      <td>NaN</td>\n",
       "      <td>NaN</td>\n",
       "      <td>NaN</td>\n",
       "      <td>NaN</td>\n",
       "      <td>NaN</td>\n",
       "      <td>NaN</td>\n",
       "      <td>NaN</td>\n",
       "      <td>NaN</td>\n",
       "      <td>NaN</td>\n",
       "      <td>NaN</td>\n",
       "      <td>NaN</td>\n",
       "      <td>NaN</td>\n",
       "      <td>NaN</td>\n",
       "      <td>NaN</td>\n",
       "      <td>NaN</td>\n",
       "      <td>NaN</td>\n",
       "      <td>NaN</td>\n",
       "      <td>NaN</td>\n",
       "      <td>NaN</td>\n",
       "      <td>NaN</td>\n",
       "      <td>NaN</td>\n",
       "      <td>NaN</td>\n",
       "      <td>NaN</td>\n",
       "      <td>NaN</td>\n",
       "      <td>NaN</td>\n",
       "      <td>NaN</td>\n",
       "      <td>NaN</td>\n",
       "      <td>NaN</td>\n",
       "      <td>NaN</td>\n",
       "      <td>NaN</td>\n",
       "      <td>NaN</td>\n",
       "      <td>NaN</td>\n",
       "      <td>NaN</td>\n",
       "      <td>NaN</td>\n",
       "      <td>NaN</td>\n",
       "      <td>NaN</td>\n",
       "      <td>NaN</td>\n",
       "      <td>NaN</td>\n",
       "    </tr>\n",
       "  </tbody>\n",
       "</table>\n",
       "</div>"
      ],
      "text/plain": [
       "        loan_amnt  funded_amnt  funded_amnt_inv  term  int_rate  installment  \\\n",
       "235629        NaN          NaN              NaN   NaN       NaN          NaN   \n",
       "235630        NaN          NaN              NaN   NaN       NaN          NaN   \n",
       "\n",
       "       grade sub_grade emp_title  emp_length home_ownership  annual_inc  \\\n",
       "235629   NaN       NaN       NaN         NaN            NaN         NaN   \n",
       "235630   NaN       NaN       NaN         NaN            NaN         NaN   \n",
       "\n",
       "       verification_status issue_d loan_status pymnt_plan desc purpose title  \\\n",
       "235629                 NaN     NaT         NaN        NaN  NaN     NaN   NaN   \n",
       "235630                 NaN     NaT         NaN        NaN  NaN     NaN   NaN   \n",
       "\n",
       "       zip_code addr_state  dti  delinq_2yrs earliest_cr_line  inq_last_6mths  \\\n",
       "235629      NaN        NaN  NaN          NaN              NaT             NaN   \n",
       "235630      NaN        NaN  NaN          NaN              NaT             NaN   \n",
       "\n",
       "        mths_since_last_delinq  mths_since_last_record  open_acc  pub_rec  \\\n",
       "235629                     NaN                     NaN       NaN      NaN   \n",
       "235630                     NaN                     NaN       NaN      NaN   \n",
       "\n",
       "        revol_bal  revol_util  total_acc initial_list_status  out_prncp  \\\n",
       "235629        NaN         NaN        NaN                 NaN        NaN   \n",
       "235630        NaN         NaN        NaN                 NaN        NaN   \n",
       "\n",
       "        out_prncp_inv  total_pymnt  total_pymnt_inv  total_rec_prncp  \\\n",
       "235629            NaN          NaN              NaN              NaN   \n",
       "235630            NaN          NaN              NaN              NaN   \n",
       "\n",
       "        total_rec_int  total_rec_late_fee  recoveries  \\\n",
       "235629            NaN                 NaN         NaN   \n",
       "235630            NaN                 NaN         NaN   \n",
       "\n",
       "        collection_recovery_fee last_pymnt_d  last_pymnt_amnt next_pymnt_d  \\\n",
       "235629                      NaN          NaT              NaN          NaT   \n",
       "235630                      NaN          NaT              NaN          NaT   \n",
       "\n",
       "       last_credit_pull_d  collections_12_mths_ex_med  \\\n",
       "235629                NaT                         NaN   \n",
       "235630                NaT                         NaN   \n",
       "\n",
       "        mths_since_last_major_derog  policy_code application_type  \\\n",
       "235629                          NaN          NaN              NaN   \n",
       "235630                          NaN          NaN              NaN   \n",
       "\n",
       "        annual_inc_joint  dti_joint  verification_status_joint  \\\n",
       "235629               NaN        NaN                        NaN   \n",
       "235630               NaN        NaN                        NaN   \n",
       "\n",
       "        acc_now_delinq  tot_coll_amt  tot_cur_bal  open_acc_6m  open_il_6m  \\\n",
       "235629             NaN           NaN          NaN          NaN         NaN   \n",
       "235630             NaN           NaN          NaN          NaN         NaN   \n",
       "\n",
       "        open_il_12m  open_il_24m  mths_since_rcnt_il  total_bal_il  il_util  \\\n",
       "235629          NaN          NaN                 NaN           NaN      NaN   \n",
       "235630          NaN          NaN                 NaN           NaN      NaN   \n",
       "\n",
       "        open_rv_12m  open_rv_24m  max_bal_bc  all_util  total_rev_hi_lim  \\\n",
       "235629          NaN          NaN         NaN       NaN               NaN   \n",
       "235630          NaN          NaN         NaN       NaN               NaN   \n",
       "\n",
       "        inq_fi  total_cu_tl  inq_last_12m  acc_open_past_24mths  avg_cur_bal  \\\n",
       "235629     NaN          NaN           NaN                   NaN          NaN   \n",
       "235630     NaN          NaN           NaN                   NaN          NaN   \n",
       "\n",
       "        bc_open_to_buy  bc_util  chargeoff_within_12_mths  delinq_amnt  \\\n",
       "235629             NaN      NaN                       NaN          NaN   \n",
       "235630             NaN      NaN                       NaN          NaN   \n",
       "\n",
       "        mo_sin_old_il_acct  mo_sin_old_rev_tl_op  mo_sin_rcnt_rev_tl_op  \\\n",
       "235629                 NaN                   NaN                    NaN   \n",
       "235630                 NaN                   NaN                    NaN   \n",
       "\n",
       "        mo_sin_rcnt_tl  mort_acc  mths_since_recent_bc  \\\n",
       "235629             NaN       NaN                   NaN   \n",
       "235630             NaN       NaN                   NaN   \n",
       "\n",
       "        mths_since_recent_bc_dlq  mths_since_recent_inq  \\\n",
       "235629                       NaN                    NaN   \n",
       "235630                       NaN                    NaN   \n",
       "\n",
       "        mths_since_recent_revol_delinq  num_accts_ever_120_pd  num_actv_bc_tl  \\\n",
       "235629                             NaN                    NaN             NaN   \n",
       "235630                             NaN                    NaN             NaN   \n",
       "\n",
       "        num_actv_rev_tl  num_bc_sats  num_bc_tl  num_il_tl  num_op_rev_tl  \\\n",
       "235629              NaN          NaN        NaN        NaN            NaN   \n",
       "235630              NaN          NaN        NaN        NaN            NaN   \n",
       "\n",
       "        num_rev_accts  num_rev_tl_bal_gt_0  num_sats  num_tl_120dpd_2m  \\\n",
       "235629            NaN                  NaN       NaN               NaN   \n",
       "235630            NaN                  NaN       NaN               NaN   \n",
       "\n",
       "        num_tl_30dpd  num_tl_90g_dpd_24m  num_tl_op_past_12m  pct_tl_nvr_dlq  \\\n",
       "235629           NaN                 NaN                 NaN             NaN   \n",
       "235630           NaN                 NaN                 NaN             NaN   \n",
       "\n",
       "        percent_bc_gt_75  pub_rec_bankruptcies  tax_liens  tot_hi_cred_lim  \\\n",
       "235629               NaN                   NaN        NaN              NaN   \n",
       "235630               NaN                   NaN        NaN              NaN   \n",
       "\n",
       "        total_bal_ex_mort  total_bc_limit  total_il_high_credit_limit  \n",
       "235629                NaN             NaN                         NaN  \n",
       "235630                NaN             NaN                         NaN  "
      ]
     },
     "execution_count": 70,
     "metadata": {},
     "output_type": "execute_result"
    }
   ],
   "source": [
    "loans[-2:]"
   ]
  },
  {
   "cell_type": "code",
   "execution_count": 71,
   "metadata": {
    "collapsed": true
   },
   "outputs": [],
   "source": [
    "# It turns out the last two rows have all values of NaN, so let's remove both rows\n",
    "loans = loans[:-2]"
   ]
  },
  {
   "cell_type": "code",
   "execution_count": 72,
   "metadata": {
    "collapsed": false
   },
   "outputs": [
    {
     "name": "stdout",
     "output_type": "stream",
     "text": [
      "  grade sub_grade                       emp_title home_ownership  \\\n",
      "0     C        C1                      MANAGEMENT           RENT   \n",
      "1     A        A3  Truck Driver Delivery Personel       MORTGAGE   \n",
      "2     D        D4       Senior Sales Professional       MORTGAGE   \n",
      "3     C        C3            Technical Specialist           RENT   \n",
      "4     C        C3                Admin Specialist           RENT   \n",
      "\n",
      "  verification_status  loan_status pymnt_plan desc             purpose  \\\n",
      "0     Source Verified   Fully Paid          n  NaN  debt_consolidation   \n",
      "1        Not Verified      Current          n  NaN         credit_card   \n",
      "2            Verified      Current          n  NaN                 car   \n",
      "3     Source Verified  Charged Off          n  NaN  debt_consolidation   \n",
      "4     Source Verified   Fully Paid          n  NaN  debt_consolidation   \n",
      "\n",
      "                     title zip_code addr_state initial_list_status  \\\n",
      "0       Debt consolidation      235         VA                   w   \n",
      "1  Credit card refinancing      937         CA                   w   \n",
      "2            Car financing      953         CA                   w   \n",
      "3       Debt consolidation      850         AZ                   f   \n",
      "4       Debt consolidation      077         NJ                   f   \n",
      "\n",
      "  application_type  \n",
      "0       INDIVIDUAL  \n",
      "1       INDIVIDUAL  \n",
      "2       INDIVIDUAL  \n",
      "3       INDIVIDUAL  \n",
      "4       INDIVIDUAL  \n"
     ]
    }
   ],
   "source": [
    "print loans[loans.dtypes[loans.dtypes == 'object'].index].head()"
   ]
  },
  {
   "cell_type": "markdown",
   "metadata": {},
   "source": [
    "- Check the cardinality of features"
   ]
  },
  {
   "cell_type": "code",
   "execution_count": 73,
   "metadata": {
    "collapsed": false
   },
   "outputs": [
    {
     "data": {
      "text/html": [
       "<div>\n",
       "<table border=\"1\" class=\"dataframe\">\n",
       "  <thead>\n",
       "    <tr style=\"text-align: right;\">\n",
       "      <th></th>\n",
       "      <th>grade</th>\n",
       "      <th>sub_grade</th>\n",
       "      <th>emp_title</th>\n",
       "      <th>home_ownership</th>\n",
       "      <th>verification_status</th>\n",
       "      <th>loan_status</th>\n",
       "      <th>pymnt_plan</th>\n",
       "      <th>desc</th>\n",
       "      <th>purpose</th>\n",
       "      <th>title</th>\n",
       "      <th>zip_code</th>\n",
       "      <th>addr_state</th>\n",
       "      <th>initial_list_status</th>\n",
       "      <th>application_type</th>\n",
       "    </tr>\n",
       "  </thead>\n",
       "  <tbody>\n",
       "    <tr>\n",
       "      <th>count</th>\n",
       "      <td>235629</td>\n",
       "      <td>235629</td>\n",
       "      <td>222393</td>\n",
       "      <td>235629</td>\n",
       "      <td>235629</td>\n",
       "      <td>235629</td>\n",
       "      <td>235629</td>\n",
       "      <td>15279</td>\n",
       "      <td>235629</td>\n",
       "      <td>235629</td>\n",
       "      <td>235629</td>\n",
       "      <td>235629</td>\n",
       "      <td>235629</td>\n",
       "      <td>235629</td>\n",
       "    </tr>\n",
       "    <tr>\n",
       "      <th>unique</th>\n",
       "      <td>7</td>\n",
       "      <td>35</td>\n",
       "      <td>75352</td>\n",
       "      <td>4</td>\n",
       "      <td>3</td>\n",
       "      <td>7</td>\n",
       "      <td>2</td>\n",
       "      <td>14843</td>\n",
       "      <td>13</td>\n",
       "      <td>2057</td>\n",
       "      <td>866</td>\n",
       "      <td>49</td>\n",
       "      <td>2</td>\n",
       "      <td>1</td>\n",
       "    </tr>\n",
       "    <tr>\n",
       "      <th>top</th>\n",
       "      <td>C</td>\n",
       "      <td>C2</td>\n",
       "      <td>Teacher</td>\n",
       "      <td>MORTGAGE</td>\n",
       "      <td>Source Verified</td>\n",
       "      <td>Current</td>\n",
       "      <td>n</td>\n",
       "      <td>Borrower added on 03/17/14 &gt; Debt consolidat...</td>\n",
       "      <td>debt_consolidation</td>\n",
       "      <td>Debt consolidation</td>\n",
       "      <td>750</td>\n",
       "      <td>CA</td>\n",
       "      <td>w</td>\n",
       "      <td>INDIVIDUAL</td>\n",
       "    </tr>\n",
       "    <tr>\n",
       "      <th>freq</th>\n",
       "      <td>66565</td>\n",
       "      <td>13965</td>\n",
       "      <td>4569</td>\n",
       "      <td>119937</td>\n",
       "      <td>97741</td>\n",
       "      <td>133113</td>\n",
       "      <td>235626</td>\n",
       "      <td>11</td>\n",
       "      <td>143006</td>\n",
       "      <td>140624</td>\n",
       "      <td>2546</td>\n",
       "      <td>33288</td>\n",
       "      <td>123473</td>\n",
       "      <td>235629</td>\n",
       "    </tr>\n",
       "  </tbody>\n",
       "</table>\n",
       "</div>"
      ],
      "text/plain": [
       "         grade sub_grade emp_title home_ownership verification_status  \\\n",
       "count   235629    235629    222393         235629              235629   \n",
       "unique       7        35     75352              4                   3   \n",
       "top          C        C2   Teacher       MORTGAGE     Source Verified   \n",
       "freq     66565     13965      4569         119937               97741   \n",
       "\n",
       "       loan_status pymnt_plan  \\\n",
       "count       235629     235629   \n",
       "unique           7          2   \n",
       "top        Current          n   \n",
       "freq        133113     235626   \n",
       "\n",
       "                                                     desc             purpose  \\\n",
       "count                                               15279              235629   \n",
       "unique                                              14843                  13   \n",
       "top       Borrower added on 03/17/14 > Debt consolidat...  debt_consolidation   \n",
       "freq                                                   11              143006   \n",
       "\n",
       "                     title zip_code addr_state initial_list_status  \\\n",
       "count               235629   235629     235629              235629   \n",
       "unique                2057      866         49                   2   \n",
       "top     Debt consolidation      750         CA                   w   \n",
       "freq                140624     2546      33288              123473   \n",
       "\n",
       "       application_type  \n",
       "count            235629  \n",
       "unique                1  \n",
       "top          INDIVIDUAL  \n",
       "freq             235629  "
      ]
     },
     "execution_count": 73,
     "metadata": {},
     "output_type": "execute_result"
    }
   ],
   "source": [
    "loans[loans.dtypes[loans.dtypes == 'object'].index].describe()"
   ]
  },
  {
   "cell_type": "code",
   "execution_count": 74,
   "metadata": {
    "collapsed": true
   },
   "outputs": [],
   "source": [
    "# application_type has only one value for all datapoints, remove it\n",
    "loans.drop('application_type', axis=1, inplace=True)"
   ]
  },
  {
   "cell_type": "code",
   "execution_count": 75,
   "metadata": {
    "collapsed": true
   },
   "outputs": [],
   "source": [
    "# emp_tile, title, zip_code have high cardinality, desc\n",
    "loans.fillna('', inplace=True)"
   ]
  },
  {
   "cell_type": "markdown",
   "metadata": {},
   "source": [
    "### Check numeric features"
   ]
  },
  {
   "cell_type": "code",
   "execution_count": 76,
   "metadata": {
    "collapsed": false
   },
   "outputs": [
    {
     "name": "stdout",
     "output_type": "stream",
     "text": [
      "   loan_amnt  funded_amnt  funded_amnt_inv  term  int_rate  installment  \\\n",
      "0    15000.0      15000.0          15000.0  60.0     12.39       336.64   \n",
      "1    10400.0      10400.0          10400.0  36.0      6.99       321.08   \n",
      "2    12800.0      12800.0          12800.0  60.0     17.14       319.08   \n",
      "3     7650.0       7650.0           7650.0  36.0     13.66       260.20   \n",
      "4     9600.0       9600.0           9600.0  36.0     13.66       326.53   \n",
      "\n",
      "   annual_inc    dti  delinq_2yrs  inq_last_6mths  open_acc  pub_rec  \\\n",
      "0     78000.0  12.03          0.0             0.0       6.0      0.0   \n",
      "1     58000.0  14.92          0.0             2.0      17.0      0.0   \n",
      "2    125000.0   8.31          1.0             0.0       8.0      0.0   \n",
      "3     50000.0  34.81          0.0             1.0      11.0      0.0   \n",
      "4     69000.0  25.81          0.0             0.0      12.0      0.0   \n",
      "\n",
      "   revol_bal  total_acc  out_prncp  out_prncp_inv  total_pymnt  \\\n",
      "0   138008.0       17.0       0.00           0.00     17392.37   \n",
      "1     6133.0       36.0    5759.00        5759.00      5448.26   \n",
      "2     5753.0       13.0   10199.13       10199.13      5393.89   \n",
      "3    16822.0       20.0       0.00           0.00      2281.98   \n",
      "4    16388.0       44.0       0.00           0.00      9973.43   \n",
      "\n",
      "   total_pymnt_inv  total_rec_prncp  total_rec_int  total_rec_late_fee  \\\n",
      "0         17392.37         15000.00        2392.37                 0.0   \n",
      "1          5448.26          4641.00         807.26                 0.0   \n",
      "2          5393.89          2600.87        2793.02                 0.0   \n",
      "3          2281.98           704.38         339.61                 0.0   \n",
      "4          9973.43          9600.00         373.43                 0.0   \n",
      "\n",
      "   recoveries  collection_recovery_fee  last_pymnt_amnt  \\\n",
      "0        0.00                   0.0000         12017.81   \n",
      "1        0.00                   0.0000           321.08   \n",
      "2        0.00                   0.0000           319.08   \n",
      "3     1237.99                 222.8382            17.70   \n",
      "4        0.00                   0.0000          9338.58   \n",
      "\n",
      "   collections_12_mths_ex_med  policy_code  acc_now_delinq  tot_coll_amt  \\\n",
      "0                         0.0          1.0             0.0           0.0   \n",
      "1                         0.0          1.0             0.0           0.0   \n",
      "2                         0.0          1.0             0.0           0.0   \n",
      "3                         0.0          1.0             0.0           0.0   \n",
      "4                         0.0          1.0             0.0           0.0   \n",
      "\n",
      "   tot_cur_bal  total_rev_hi_lim  acc_open_past_24mths  \\\n",
      "0     149140.0          184500.0                   5.0   \n",
      "1     162110.0           19400.0                   7.0   \n",
      "2     261815.0            5700.0                   2.0   \n",
      "3      64426.0           18300.0                   6.0   \n",
      "4      38566.0           27600.0                   8.0   \n",
      "\n",
      "   chargeoff_within_12_mths  delinq_amnt  mo_sin_old_rev_tl_op  \\\n",
      "0                       0.0          0.0                 244.0   \n",
      "1                       0.0          0.0                 290.0   \n",
      "2                       0.0          0.0                 170.0   \n",
      "3                       0.0          0.0                 148.0   \n",
      "4                       0.0          0.0                 265.0   \n",
      "\n",
      "   mo_sin_rcnt_rev_tl_op  mo_sin_rcnt_tl  mort_acc  num_accts_ever_120_pd  \\\n",
      "0                    1.0             1.0       0.0                    0.0   \n",
      "1                    1.0             1.0       1.0                    4.0   \n",
      "2                   21.0            16.0       5.0                    1.0   \n",
      "3                    8.0             8.0       0.0                    0.0   \n",
      "4                   23.0             3.0       0.0                    0.0   \n",
      "\n",
      "   num_actv_bc_tl  num_actv_rev_tl  num_bc_sats  num_bc_tl  num_il_tl  \\\n",
      "0             1.0              4.0          1.0        2.0        8.0   \n",
      "1             6.0              9.0          7.0       18.0        2.0   \n",
      "2             3.0              5.0          3.0        5.0        1.0   \n",
      "3             1.0              4.0          1.0        4.0       12.0   \n",
      "4             4.0              7.0          5.0       16.0       17.0   \n",
      "\n",
      "   num_op_rev_tl  num_rev_accts  num_rev_tl_bal_gt_0  num_sats  num_tl_30dpd  \\\n",
      "0            5.0            9.0                  4.0       6.0           0.0   \n",
      "1           14.0           32.0                  9.0      17.0           0.0   \n",
      "2            5.0            7.0                  5.0       8.0           0.0   \n",
      "3            4.0            8.0                  4.0      11.0           0.0   \n",
      "4            8.0           26.0                  7.0      12.0           0.0   \n",
      "\n",
      "   num_tl_90g_dpd_24m  num_tl_op_past_12m  pct_tl_nvr_dlq  \\\n",
      "0                 0.0                 4.0           100.0   \n",
      "1                 0.0                 4.0            83.3   \n",
      "2                 0.0                 0.0            76.9   \n",
      "3                 0.0                 2.0           100.0   \n",
      "4                 0.0                 3.0           100.0   \n",
      "\n",
      "   pub_rec_bankruptcies  tax_liens  tot_hi_cred_lim  total_bal_ex_mort  \\\n",
      "0                   0.0        0.0         196500.0           149140.0   \n",
      "1                   0.0        0.0         179407.0            15030.0   \n",
      "2                   0.0        0.0         368700.0            18007.0   \n",
      "3                   0.0        0.0          82331.0            64426.0   \n",
      "4                   0.0        0.0          52490.0            38566.0   \n",
      "\n",
      "   total_bc_limit  total_il_high_credit_limit  \n",
      "0         10000.0                     12000.0  \n",
      "1         13000.0                     11325.0  \n",
      "2          4400.0                     18000.0  \n",
      "3          4900.0                     64031.0  \n",
      "4         21100.0                     24890.0  \n"
     ]
    }
   ],
   "source": [
    "float_cols = loans.dtypes[loans.dtypes == 'float64']\n",
    "print loans[float_cols.index].head()"
   ]
  },
  {
   "cell_type": "markdown",
   "metadata": {},
   "source": [
    "- post-decison features"
   ]
  },
  {
   "cell_type": "code",
   "execution_count": 77,
   "metadata": {
    "collapsed": true
   },
   "outputs": [],
   "source": [
    "post = ['funded_amnt', 'funded_amnt_inv', 'total_pymnt', 'total_pymnt_inv', 'total_rec_prncp', 'total_rec_int', \n",
    "        'total_rec_late_fee', 'recoveries', 'collection_recovery_fee', 'last_pymnt_amnt']"
   ]
  },
  {
   "cell_type": "code",
   "execution_count": 78,
   "metadata": {
    "collapsed": true
   },
   "outputs": [],
   "source": [
    "loans.drop(post, axis=1, inplace=True)"
   ]
  },
  {
   "cell_type": "markdown",
   "metadata": {},
   "source": [
    "- Check the NaNs along the float64 features"
   ]
  },
  {
   "cell_type": "code",
   "execution_count": 79,
   "metadata": {
    "collapsed": false
   },
   "outputs": [
    {
     "name": "stdout",
     "output_type": "stream",
     "text": [
      "Before removing NaNs\n",
      "loan_amnt                     0\n",
      "term                          0\n",
      "int_rate                      0\n",
      "installment                   0\n",
      "annual_inc                    0\n",
      "dti                           0\n",
      "delinq_2yrs                   0\n",
      "inq_last_6mths                0\n",
      "open_acc                      0\n",
      "pub_rec                       0\n",
      "revol_bal                     0\n",
      "total_acc                     0\n",
      "out_prncp                     0\n",
      "out_prncp_inv                 0\n",
      "collections_12_mths_ex_med    0\n",
      "policy_code                   0\n",
      "acc_now_delinq                0\n",
      "tot_coll_amt                  0\n",
      "tot_cur_bal                   0\n",
      "total_rev_hi_lim              0\n",
      "acc_open_past_24mths          0\n",
      "chargeoff_within_12_mths      0\n",
      "delinq_amnt                   0\n",
      "mo_sin_old_rev_tl_op          0\n",
      "mo_sin_rcnt_rev_tl_op         0\n",
      "mo_sin_rcnt_tl                0\n",
      "mort_acc                      0\n",
      "num_accts_ever_120_pd         0\n",
      "num_actv_bc_tl                0\n",
      "num_actv_rev_tl               0\n",
      "num_bc_sats                   0\n",
      "num_bc_tl                     0\n",
      "num_il_tl                     0\n",
      "num_op_rev_tl                 0\n",
      "num_rev_accts                 0\n",
      "num_rev_tl_bal_gt_0           0\n",
      "num_sats                      0\n",
      "num_tl_30dpd                  0\n",
      "num_tl_90g_dpd_24m            0\n",
      "num_tl_op_past_12m            0\n",
      "pct_tl_nvr_dlq                0\n",
      "pub_rec_bankruptcies          0\n",
      "tax_liens                     0\n",
      "tot_hi_cred_lim               0\n",
      "total_bal_ex_mort             0\n",
      "total_bc_limit                0\n",
      "total_il_high_credit_limit    0\n",
      "dtype: int64\n"
     ]
    }
   ],
   "source": [
    "float_cols = loans.dtypes[loans.dtypes == 'float64']\n",
    "float_nulls = pd.isnull(loans[float_cols.index]).sum()\n",
    "print \"Before removing NaNs\"\n",
    "print float_nulls"
   ]
  },
  {
   "cell_type": "code",
   "execution_count": 80,
   "metadata": {
    "collapsed": false
   },
   "outputs": [
    {
     "name": "stdout",
     "output_type": "stream",
     "text": [
      "After removing NaN columns\n",
      "loan_amnt                     0\n",
      "term                          0\n",
      "int_rate                      0\n",
      "installment                   0\n",
      "annual_inc                    0\n",
      "dti                           0\n",
      "delinq_2yrs                   0\n",
      "inq_last_6mths                0\n",
      "open_acc                      0\n",
      "pub_rec                       0\n",
      "revol_bal                     0\n",
      "total_acc                     0\n",
      "out_prncp                     0\n",
      "out_prncp_inv                 0\n",
      "collections_12_mths_ex_med    0\n",
      "policy_code                   0\n",
      "acc_now_delinq                0\n",
      "tot_coll_amt                  0\n",
      "tot_cur_bal                   0\n",
      "total_rev_hi_lim              0\n",
      "acc_open_past_24mths          0\n",
      "chargeoff_within_12_mths      0\n",
      "delinq_amnt                   0\n",
      "mo_sin_old_rev_tl_op          0\n",
      "mo_sin_rcnt_rev_tl_op         0\n",
      "mo_sin_rcnt_tl                0\n",
      "mort_acc                      0\n",
      "num_accts_ever_120_pd         0\n",
      "num_actv_bc_tl                0\n",
      "num_actv_rev_tl               0\n",
      "num_bc_sats                   0\n",
      "num_bc_tl                     0\n",
      "num_il_tl                     0\n",
      "num_op_rev_tl                 0\n",
      "num_rev_accts                 0\n",
      "num_rev_tl_bal_gt_0           0\n",
      "num_sats                      0\n",
      "num_tl_30dpd                  0\n",
      "num_tl_90g_dpd_24m            0\n",
      "num_tl_op_past_12m            0\n",
      "pct_tl_nvr_dlq                0\n",
      "pub_rec_bankruptcies          0\n",
      "tax_liens                     0\n",
      "tot_hi_cred_lim               0\n",
      "total_bal_ex_mort             0\n",
      "total_bc_limit                0\n",
      "total_il_high_credit_limit    0\n",
      "dtype: int64\n"
     ]
    }
   ],
   "source": [
    "# Some features have all values of NaN(235629), let's remove them all first\n",
    "loans.drop(float_nulls[float_nulls == 235629].index, axis=1, inplace=True)\n",
    "print \"After removing NaN columns\"\n",
    "float_cols = loans.dtypes[loans.dtypes == 'float64']\n",
    "float_nulls = pd.isnull(loans[float_cols.index]).sum()\n",
    "print float_nulls"
   ]
  },
  {
   "cell_type": "code",
   "execution_count": 81,
   "metadata": {
    "collapsed": false
   },
   "outputs": [
    {
     "data": {
      "text/plain": [
       "Series([], dtype: int64)"
      ]
     },
     "execution_count": 81,
     "metadata": {},
     "output_type": "execute_result"
    }
   ],
   "source": [
    "# check other NaNs\n",
    "float_nulls[float_nulls > 0]"
   ]
  },
  {
   "cell_type": "markdown",
   "metadata": {},
   "source": [
    "If we check the meaning of above features, imputing NaNs as 0 could be the best choice\n",
    "\n",
    "- emp_length: Employment length in years. Possible values are between 0 and 10 where 0 means less than one year and 10 means ten or more years. \n",
    "- mths_since_last_delinq: The number of months since the borrower's last delinquency.\n",
    "- mths_since_last_record: The number of months since the last public record.\n",
    "- revol_util: Revolving line utilization rate, or the amount of credit the borrower is using relative to all available revolving credit.\n",
    "- mths_since_last_major_derog: Months since most recent 90-day or worse rating\n",
    "- avg_cur_bal: Average current balance of all accounts\n",
    "- bc_open_to_buy: Total open to buy on revolving bankcards.\n",
    "- bc_util: Ratio of total current balance to high credit/credit limit for all bankcard accounts.\n",
    "- mo_sin_old_il_acct: Months since oldest bank installment account opened\n",
    "- mths_since_recent_bc: Months since most recent bankcard account opened.\n",
    "- mths_since_recent_bc_dlq:Months since most recent bankcard delinquency\n",
    "- mths_since_recent_inq: Months since most recent inquiry.\n",
    "- mths_since_recent_revol_delinq: Months since most recent revolving delinquency.\n",
    "- num_tl_120dpd_2m: Number of accounts currently 120 days past due (updated in past 2 months)\n",
    "- percent_bc_gt_75: Percentage of all bankcard accounts > 75% of limit."
   ]
  },
  {
   "cell_type": "code",
   "execution_count": 82,
   "metadata": {
    "collapsed": false,
    "scrolled": false
   },
   "outputs": [],
   "source": [
    "# Imputing NaNs into 0\n",
    "loans[float_nulls[float_nulls > 0].index] = loans[float_nulls[float_nulls > 0].index].fillna(0)"
   ]
  },
  {
   "cell_type": "markdown",
   "metadata": {},
   "source": [
    "- Check the variance of numeric features"
   ]
  },
  {
   "cell_type": "code",
   "execution_count": 83,
   "metadata": {
    "collapsed": false
   },
   "outputs": [],
   "source": [
    "float_cols = loans[loans.dtypes[loans.dtypes == 'float64'].index]"
   ]
  },
  {
   "cell_type": "code",
   "execution_count": 84,
   "metadata": {
    "collapsed": false
   },
   "outputs": [
    {
     "data": {
      "text/html": [
       "<div>\n",
       "<table border=\"1\" class=\"dataframe\">\n",
       "  <thead>\n",
       "    <tr style=\"text-align: right;\">\n",
       "      <th></th>\n",
       "      <th>loan_amnt</th>\n",
       "      <th>term</th>\n",
       "      <th>int_rate</th>\n",
       "      <th>installment</th>\n",
       "      <th>annual_inc</th>\n",
       "      <th>dti</th>\n",
       "      <th>delinq_2yrs</th>\n",
       "      <th>inq_last_6mths</th>\n",
       "      <th>open_acc</th>\n",
       "      <th>pub_rec</th>\n",
       "      <th>revol_bal</th>\n",
       "      <th>total_acc</th>\n",
       "      <th>out_prncp</th>\n",
       "      <th>out_prncp_inv</th>\n",
       "      <th>collections_12_mths_ex_med</th>\n",
       "      <th>policy_code</th>\n",
       "      <th>acc_now_delinq</th>\n",
       "      <th>tot_coll_amt</th>\n",
       "      <th>tot_cur_bal</th>\n",
       "      <th>total_rev_hi_lim</th>\n",
       "      <th>acc_open_past_24mths</th>\n",
       "      <th>chargeoff_within_12_mths</th>\n",
       "      <th>delinq_amnt</th>\n",
       "      <th>mo_sin_old_rev_tl_op</th>\n",
       "      <th>mo_sin_rcnt_rev_tl_op</th>\n",
       "      <th>mo_sin_rcnt_tl</th>\n",
       "      <th>mort_acc</th>\n",
       "      <th>num_accts_ever_120_pd</th>\n",
       "      <th>num_actv_bc_tl</th>\n",
       "      <th>num_actv_rev_tl</th>\n",
       "      <th>num_bc_sats</th>\n",
       "      <th>num_bc_tl</th>\n",
       "      <th>num_il_tl</th>\n",
       "      <th>num_op_rev_tl</th>\n",
       "      <th>num_rev_accts</th>\n",
       "      <th>num_rev_tl_bal_gt_0</th>\n",
       "      <th>num_sats</th>\n",
       "      <th>num_tl_30dpd</th>\n",
       "      <th>num_tl_90g_dpd_24m</th>\n",
       "      <th>num_tl_op_past_12m</th>\n",
       "      <th>pct_tl_nvr_dlq</th>\n",
       "      <th>pub_rec_bankruptcies</th>\n",
       "      <th>tax_liens</th>\n",
       "      <th>tot_hi_cred_lim</th>\n",
       "      <th>total_bal_ex_mort</th>\n",
       "      <th>total_bc_limit</th>\n",
       "      <th>total_il_high_credit_limit</th>\n",
       "    </tr>\n",
       "  </thead>\n",
       "  <tbody>\n",
       "    <tr>\n",
       "      <th>count</th>\n",
       "      <td>235629.000000</td>\n",
       "      <td>235629.000000</td>\n",
       "      <td>235629.000000</td>\n",
       "      <td>235629.000000</td>\n",
       "      <td>2.356290e+05</td>\n",
       "      <td>235629.000000</td>\n",
       "      <td>235629.000000</td>\n",
       "      <td>235629.000000</td>\n",
       "      <td>235629.000000</td>\n",
       "      <td>235629.000000</td>\n",
       "      <td>2.356290e+05</td>\n",
       "      <td>235629.000000</td>\n",
       "      <td>235629.000000</td>\n",
       "      <td>235629.000000</td>\n",
       "      <td>235629.000000</td>\n",
       "      <td>235629.0</td>\n",
       "      <td>235629.000000</td>\n",
       "      <td>2.356290e+05</td>\n",
       "      <td>2.356290e+05</td>\n",
       "      <td>2.356290e+05</td>\n",
       "      <td>235629.000000</td>\n",
       "      <td>235629.000000</td>\n",
       "      <td>235629.000000</td>\n",
       "      <td>235629.000000</td>\n",
       "      <td>235629.000000</td>\n",
       "      <td>235629.000000</td>\n",
       "      <td>235629.000000</td>\n",
       "      <td>235629.000000</td>\n",
       "      <td>235629.000000</td>\n",
       "      <td>235629.000000</td>\n",
       "      <td>235629.00000</td>\n",
       "      <td>235629.000000</td>\n",
       "      <td>235629.000000</td>\n",
       "      <td>235629.000000</td>\n",
       "      <td>235629.000000</td>\n",
       "      <td>235629.000000</td>\n",
       "      <td>235629.000000</td>\n",
       "      <td>235629.000000</td>\n",
       "      <td>235629.000000</td>\n",
       "      <td>235629.000000</td>\n",
       "      <td>235629.000000</td>\n",
       "      <td>235629.000000</td>\n",
       "      <td>235629.000000</td>\n",
       "      <td>2.356290e+05</td>\n",
       "      <td>2.356290e+05</td>\n",
       "      <td>2.356290e+05</td>\n",
       "      <td>2.356290e+05</td>\n",
       "    </tr>\n",
       "    <tr>\n",
       "      <th>mean</th>\n",
       "      <td>14870.156793</td>\n",
       "      <td>43.441427</td>\n",
       "      <td>13.770735</td>\n",
       "      <td>442.476615</td>\n",
       "      <td>7.485415e+04</td>\n",
       "      <td>18.040770</td>\n",
       "      <td>0.344512</td>\n",
       "      <td>0.755760</td>\n",
       "      <td>11.668093</td>\n",
       "      <td>0.222460</td>\n",
       "      <td>1.650809e+04</td>\n",
       "      <td>26.010826</td>\n",
       "      <td>4924.565806</td>\n",
       "      <td>4923.169119</td>\n",
       "      <td>0.015440</td>\n",
       "      <td>1.0</td>\n",
       "      <td>0.005734</td>\n",
       "      <td>2.703017e+02</td>\n",
       "      <td>1.398023e+05</td>\n",
       "      <td>3.070905e+04</td>\n",
       "      <td>4.404785</td>\n",
       "      <td>0.010716</td>\n",
       "      <td>10.200166</td>\n",
       "      <td>185.748609</td>\n",
       "      <td>13.070407</td>\n",
       "      <td>7.997186</td>\n",
       "      <td>1.851173</td>\n",
       "      <td>0.503414</td>\n",
       "      <td>3.687445</td>\n",
       "      <td>5.804888</td>\n",
       "      <td>4.64773</td>\n",
       "      <td>8.544008</td>\n",
       "      <td>8.572918</td>\n",
       "      <td>8.276592</td>\n",
       "      <td>15.298643</td>\n",
       "      <td>5.769557</td>\n",
       "      <td>11.618825</td>\n",
       "      <td>0.003722</td>\n",
       "      <td>0.094581</td>\n",
       "      <td>2.006892</td>\n",
       "      <td>94.239886</td>\n",
       "      <td>0.134873</td>\n",
       "      <td>0.055757</td>\n",
       "      <td>1.702490e+05</td>\n",
       "      <td>4.838943e+04</td>\n",
       "      <td>2.003141e+04</td>\n",
       "      <td>3.988339e+04</td>\n",
       "    </tr>\n",
       "    <tr>\n",
       "      <th>std</th>\n",
       "      <td>8438.318193</td>\n",
       "      <td>11.100448</td>\n",
       "      <td>4.325650</td>\n",
       "      <td>245.046088</td>\n",
       "      <td>5.554753e+04</td>\n",
       "      <td>8.023002</td>\n",
       "      <td>0.898319</td>\n",
       "      <td>1.033981</td>\n",
       "      <td>5.268175</td>\n",
       "      <td>0.604696</td>\n",
       "      <td>2.146289e+04</td>\n",
       "      <td>11.895675</td>\n",
       "      <td>6211.427001</td>\n",
       "      <td>6209.875957</td>\n",
       "      <td>0.143081</td>\n",
       "      <td>0.0</td>\n",
       "      <td>0.081086</td>\n",
       "      <td>1.895292e+04</td>\n",
       "      <td>1.530226e+05</td>\n",
       "      <td>3.687980e+04</td>\n",
       "      <td>2.865349</td>\n",
       "      <td>0.116863</td>\n",
       "      <td>587.501136</td>\n",
       "      <td>93.040778</td>\n",
       "      <td>16.111818</td>\n",
       "      <td>8.738951</td>\n",
       "      <td>2.161213</td>\n",
       "      <td>1.264196</td>\n",
       "      <td>2.155902</td>\n",
       "      <td>3.141478</td>\n",
       "      <td>2.72445</td>\n",
       "      <td>4.821962</td>\n",
       "      <td>7.302646</td>\n",
       "      <td>4.318805</td>\n",
       "      <td>8.055087</td>\n",
       "      <td>3.123751</td>\n",
       "      <td>5.266031</td>\n",
       "      <td>0.065202</td>\n",
       "      <td>0.490951</td>\n",
       "      <td>1.604793</td>\n",
       "      <td>8.463073</td>\n",
       "      <td>0.376381</td>\n",
       "      <td>0.409256</td>\n",
       "      <td>1.719961e+05</td>\n",
       "      <td>4.596607e+04</td>\n",
       "      <td>2.020999e+04</td>\n",
       "      <td>4.143171e+04</td>\n",
       "    </tr>\n",
       "    <tr>\n",
       "      <th>min</th>\n",
       "      <td>1000.000000</td>\n",
       "      <td>36.000000</td>\n",
       "      <td>6.000000</td>\n",
       "      <td>23.360000</td>\n",
       "      <td>3.000000e+03</td>\n",
       "      <td>0.000000</td>\n",
       "      <td>0.000000</td>\n",
       "      <td>0.000000</td>\n",
       "      <td>0.000000</td>\n",
       "      <td>0.000000</td>\n",
       "      <td>0.000000e+00</td>\n",
       "      <td>2.000000</td>\n",
       "      <td>0.000000</td>\n",
       "      <td>0.000000</td>\n",
       "      <td>0.000000</td>\n",
       "      <td>1.0</td>\n",
       "      <td>0.000000</td>\n",
       "      <td>0.000000e+00</td>\n",
       "      <td>0.000000e+00</td>\n",
       "      <td>0.000000e+00</td>\n",
       "      <td>0.000000</td>\n",
       "      <td>0.000000</td>\n",
       "      <td>0.000000</td>\n",
       "      <td>3.000000</td>\n",
       "      <td>0.000000</td>\n",
       "      <td>0.000000</td>\n",
       "      <td>0.000000</td>\n",
       "      <td>0.000000</td>\n",
       "      <td>0.000000</td>\n",
       "      <td>0.000000</td>\n",
       "      <td>0.00000</td>\n",
       "      <td>0.000000</td>\n",
       "      <td>0.000000</td>\n",
       "      <td>0.000000</td>\n",
       "      <td>2.000000</td>\n",
       "      <td>0.000000</td>\n",
       "      <td>0.000000</td>\n",
       "      <td>0.000000</td>\n",
       "      <td>0.000000</td>\n",
       "      <td>0.000000</td>\n",
       "      <td>16.700000</td>\n",
       "      <td>0.000000</td>\n",
       "      <td>0.000000</td>\n",
       "      <td>0.000000e+00</td>\n",
       "      <td>0.000000e+00</td>\n",
       "      <td>0.000000e+00</td>\n",
       "      <td>0.000000e+00</td>\n",
       "    </tr>\n",
       "    <tr>\n",
       "      <th>25%</th>\n",
       "      <td>8325.000000</td>\n",
       "      <td>36.000000</td>\n",
       "      <td>10.990000</td>\n",
       "      <td>265.680000</td>\n",
       "      <td>4.537700e+04</td>\n",
       "      <td>12.020000</td>\n",
       "      <td>0.000000</td>\n",
       "      <td>0.000000</td>\n",
       "      <td>8.000000</td>\n",
       "      <td>0.000000</td>\n",
       "      <td>6.336000e+03</td>\n",
       "      <td>17.000000</td>\n",
       "      <td>0.000000</td>\n",
       "      <td>0.000000</td>\n",
       "      <td>0.000000</td>\n",
       "      <td>1.0</td>\n",
       "      <td>0.000000</td>\n",
       "      <td>0.000000e+00</td>\n",
       "      <td>2.946000e+04</td>\n",
       "      <td>1.330000e+04</td>\n",
       "      <td>2.000000</td>\n",
       "      <td>0.000000</td>\n",
       "      <td>0.000000</td>\n",
       "      <td>120.000000</td>\n",
       "      <td>4.000000</td>\n",
       "      <td>3.000000</td>\n",
       "      <td>0.000000</td>\n",
       "      <td>0.000000</td>\n",
       "      <td>2.000000</td>\n",
       "      <td>4.000000</td>\n",
       "      <td>3.00000</td>\n",
       "      <td>5.000000</td>\n",
       "      <td>4.000000</td>\n",
       "      <td>5.000000</td>\n",
       "      <td>9.000000</td>\n",
       "      <td>4.000000</td>\n",
       "      <td>8.000000</td>\n",
       "      <td>0.000000</td>\n",
       "      <td>0.000000</td>\n",
       "      <td>1.000000</td>\n",
       "      <td>91.400000</td>\n",
       "      <td>0.000000</td>\n",
       "      <td>0.000000</td>\n",
       "      <td>4.780000e+04</td>\n",
       "      <td>2.076900e+04</td>\n",
       "      <td>7.000000e+03</td>\n",
       "      <td>1.359200e+04</td>\n",
       "    </tr>\n",
       "    <tr>\n",
       "      <th>50%</th>\n",
       "      <td>13000.000000</td>\n",
       "      <td>36.000000</td>\n",
       "      <td>13.650000</td>\n",
       "      <td>384.110000</td>\n",
       "      <td>6.500000e+04</td>\n",
       "      <td>17.630000</td>\n",
       "      <td>0.000000</td>\n",
       "      <td>0.000000</td>\n",
       "      <td>11.000000</td>\n",
       "      <td>0.000000</td>\n",
       "      <td>1.168600e+04</td>\n",
       "      <td>24.000000</td>\n",
       "      <td>2541.030000</td>\n",
       "      <td>2537.790000</td>\n",
       "      <td>0.000000</td>\n",
       "      <td>1.0</td>\n",
       "      <td>0.000000</td>\n",
       "      <td>0.000000e+00</td>\n",
       "      <td>8.202700e+04</td>\n",
       "      <td>2.280000e+04</td>\n",
       "      <td>4.000000</td>\n",
       "      <td>0.000000</td>\n",
       "      <td>0.000000</td>\n",
       "      <td>168.000000</td>\n",
       "      <td>8.000000</td>\n",
       "      <td>6.000000</td>\n",
       "      <td>1.000000</td>\n",
       "      <td>0.000000</td>\n",
       "      <td>3.000000</td>\n",
       "      <td>5.000000</td>\n",
       "      <td>4.00000</td>\n",
       "      <td>8.000000</td>\n",
       "      <td>7.000000</td>\n",
       "      <td>7.000000</td>\n",
       "      <td>14.000000</td>\n",
       "      <td>5.000000</td>\n",
       "      <td>11.000000</td>\n",
       "      <td>0.000000</td>\n",
       "      <td>0.000000</td>\n",
       "      <td>2.000000</td>\n",
       "      <td>97.600000</td>\n",
       "      <td>0.000000</td>\n",
       "      <td>0.000000</td>\n",
       "      <td>1.115140e+05</td>\n",
       "      <td>3.668500e+04</td>\n",
       "      <td>1.380000e+04</td>\n",
       "      <td>3.000000e+04</td>\n",
       "    </tr>\n",
       "    <tr>\n",
       "      <th>75%</th>\n",
       "      <td>20000.000000</td>\n",
       "      <td>60.000000</td>\n",
       "      <td>16.290000</td>\n",
       "      <td>578.690000</td>\n",
       "      <td>9.000000e+04</td>\n",
       "      <td>23.760000</td>\n",
       "      <td>0.000000</td>\n",
       "      <td>1.000000</td>\n",
       "      <td>14.000000</td>\n",
       "      <td>0.000000</td>\n",
       "      <td>2.052800e+04</td>\n",
       "      <td>33.000000</td>\n",
       "      <td>8029.600000</td>\n",
       "      <td>8025.210000</td>\n",
       "      <td>0.000000</td>\n",
       "      <td>1.0</td>\n",
       "      <td>0.000000</td>\n",
       "      <td>0.000000e+00</td>\n",
       "      <td>2.095060e+05</td>\n",
       "      <td>3.840000e+04</td>\n",
       "      <td>6.000000</td>\n",
       "      <td>0.000000</td>\n",
       "      <td>0.000000</td>\n",
       "      <td>234.000000</td>\n",
       "      <td>16.000000</td>\n",
       "      <td>10.000000</td>\n",
       "      <td>3.000000</td>\n",
       "      <td>0.000000</td>\n",
       "      <td>5.000000</td>\n",
       "      <td>7.000000</td>\n",
       "      <td>6.00000</td>\n",
       "      <td>11.000000</td>\n",
       "      <td>11.000000</td>\n",
       "      <td>10.000000</td>\n",
       "      <td>20.000000</td>\n",
       "      <td>7.000000</td>\n",
       "      <td>14.000000</td>\n",
       "      <td>0.000000</td>\n",
       "      <td>0.000000</td>\n",
       "      <td>3.000000</td>\n",
       "      <td>100.000000</td>\n",
       "      <td>0.000000</td>\n",
       "      <td>0.000000</td>\n",
       "      <td>2.475220e+05</td>\n",
       "      <td>6.082100e+04</td>\n",
       "      <td>2.620000e+04</td>\n",
       "      <td>5.356600e+04</td>\n",
       "    </tr>\n",
       "    <tr>\n",
       "      <th>max</th>\n",
       "      <td>35000.000000</td>\n",
       "      <td>60.000000</td>\n",
       "      <td>26.060000</td>\n",
       "      <td>1409.990000</td>\n",
       "      <td>7.500000e+06</td>\n",
       "      <td>39.990000</td>\n",
       "      <td>22.000000</td>\n",
       "      <td>6.000000</td>\n",
       "      <td>84.000000</td>\n",
       "      <td>63.000000</td>\n",
       "      <td>2.560703e+06</td>\n",
       "      <td>156.000000</td>\n",
       "      <td>30971.490000</td>\n",
       "      <td>30971.490000</td>\n",
       "      <td>20.000000</td>\n",
       "      <td>1.0</td>\n",
       "      <td>4.000000</td>\n",
       "      <td>9.152545e+06</td>\n",
       "      <td>4.026405e+06</td>\n",
       "      <td>9.999999e+06</td>\n",
       "      <td>53.000000</td>\n",
       "      <td>7.000000</td>\n",
       "      <td>70076.000000</td>\n",
       "      <td>842.000000</td>\n",
       "      <td>372.000000</td>\n",
       "      <td>226.000000</td>\n",
       "      <td>37.000000</td>\n",
       "      <td>33.000000</td>\n",
       "      <td>26.000000</td>\n",
       "      <td>38.000000</td>\n",
       "      <td>35.00000</td>\n",
       "      <td>61.000000</td>\n",
       "      <td>150.000000</td>\n",
       "      <td>62.000000</td>\n",
       "      <td>105.000000</td>\n",
       "      <td>38.000000</td>\n",
       "      <td>84.000000</td>\n",
       "      <td>4.000000</td>\n",
       "      <td>22.000000</td>\n",
       "      <td>26.000000</td>\n",
       "      <td>100.000000</td>\n",
       "      <td>12.000000</td>\n",
       "      <td>63.000000</td>\n",
       "      <td>9.999999e+06</td>\n",
       "      <td>2.688920e+06</td>\n",
       "      <td>1.090700e+06</td>\n",
       "      <td>1.241783e+06</td>\n",
       "    </tr>\n",
       "  </tbody>\n",
       "</table>\n",
       "</div>"
      ],
      "text/plain": [
       "           loan_amnt           term       int_rate    installment  \\\n",
       "count  235629.000000  235629.000000  235629.000000  235629.000000   \n",
       "mean    14870.156793      43.441427      13.770735     442.476615   \n",
       "std      8438.318193      11.100448       4.325650     245.046088   \n",
       "min      1000.000000      36.000000       6.000000      23.360000   \n",
       "25%      8325.000000      36.000000      10.990000     265.680000   \n",
       "50%     13000.000000      36.000000      13.650000     384.110000   \n",
       "75%     20000.000000      60.000000      16.290000     578.690000   \n",
       "max     35000.000000      60.000000      26.060000    1409.990000   \n",
       "\n",
       "         annual_inc            dti    delinq_2yrs  inq_last_6mths  \\\n",
       "count  2.356290e+05  235629.000000  235629.000000   235629.000000   \n",
       "mean   7.485415e+04      18.040770       0.344512        0.755760   \n",
       "std    5.554753e+04       8.023002       0.898319        1.033981   \n",
       "min    3.000000e+03       0.000000       0.000000        0.000000   \n",
       "25%    4.537700e+04      12.020000       0.000000        0.000000   \n",
       "50%    6.500000e+04      17.630000       0.000000        0.000000   \n",
       "75%    9.000000e+04      23.760000       0.000000        1.000000   \n",
       "max    7.500000e+06      39.990000      22.000000        6.000000   \n",
       "\n",
       "            open_acc        pub_rec     revol_bal      total_acc  \\\n",
       "count  235629.000000  235629.000000  2.356290e+05  235629.000000   \n",
       "mean       11.668093       0.222460  1.650809e+04      26.010826   \n",
       "std         5.268175       0.604696  2.146289e+04      11.895675   \n",
       "min         0.000000       0.000000  0.000000e+00       2.000000   \n",
       "25%         8.000000       0.000000  6.336000e+03      17.000000   \n",
       "50%        11.000000       0.000000  1.168600e+04      24.000000   \n",
       "75%        14.000000       0.000000  2.052800e+04      33.000000   \n",
       "max        84.000000      63.000000  2.560703e+06     156.000000   \n",
       "\n",
       "           out_prncp  out_prncp_inv  collections_12_mths_ex_med  policy_code  \\\n",
       "count  235629.000000  235629.000000               235629.000000     235629.0   \n",
       "mean     4924.565806    4923.169119                    0.015440          1.0   \n",
       "std      6211.427001    6209.875957                    0.143081          0.0   \n",
       "min         0.000000       0.000000                    0.000000          1.0   \n",
       "25%         0.000000       0.000000                    0.000000          1.0   \n",
       "50%      2541.030000    2537.790000                    0.000000          1.0   \n",
       "75%      8029.600000    8025.210000                    0.000000          1.0   \n",
       "max     30971.490000   30971.490000                   20.000000          1.0   \n",
       "\n",
       "       acc_now_delinq  tot_coll_amt   tot_cur_bal  total_rev_hi_lim  \\\n",
       "count   235629.000000  2.356290e+05  2.356290e+05      2.356290e+05   \n",
       "mean         0.005734  2.703017e+02  1.398023e+05      3.070905e+04   \n",
       "std          0.081086  1.895292e+04  1.530226e+05      3.687980e+04   \n",
       "min          0.000000  0.000000e+00  0.000000e+00      0.000000e+00   \n",
       "25%          0.000000  0.000000e+00  2.946000e+04      1.330000e+04   \n",
       "50%          0.000000  0.000000e+00  8.202700e+04      2.280000e+04   \n",
       "75%          0.000000  0.000000e+00  2.095060e+05      3.840000e+04   \n",
       "max          4.000000  9.152545e+06  4.026405e+06      9.999999e+06   \n",
       "\n",
       "       acc_open_past_24mths  chargeoff_within_12_mths    delinq_amnt  \\\n",
       "count         235629.000000             235629.000000  235629.000000   \n",
       "mean               4.404785                  0.010716      10.200166   \n",
       "std                2.865349                  0.116863     587.501136   \n",
       "min                0.000000                  0.000000       0.000000   \n",
       "25%                2.000000                  0.000000       0.000000   \n",
       "50%                4.000000                  0.000000       0.000000   \n",
       "75%                6.000000                  0.000000       0.000000   \n",
       "max               53.000000                  7.000000   70076.000000   \n",
       "\n",
       "       mo_sin_old_rev_tl_op  mo_sin_rcnt_rev_tl_op  mo_sin_rcnt_tl  \\\n",
       "count         235629.000000          235629.000000   235629.000000   \n",
       "mean             185.748609              13.070407        7.997186   \n",
       "std               93.040778              16.111818        8.738951   \n",
       "min                3.000000               0.000000        0.000000   \n",
       "25%              120.000000               4.000000        3.000000   \n",
       "50%              168.000000               8.000000        6.000000   \n",
       "75%              234.000000              16.000000       10.000000   \n",
       "max              842.000000             372.000000      226.000000   \n",
       "\n",
       "            mort_acc  num_accts_ever_120_pd  num_actv_bc_tl  num_actv_rev_tl  \\\n",
       "count  235629.000000          235629.000000   235629.000000    235629.000000   \n",
       "mean        1.851173               0.503414        3.687445         5.804888   \n",
       "std         2.161213               1.264196        2.155902         3.141478   \n",
       "min         0.000000               0.000000        0.000000         0.000000   \n",
       "25%         0.000000               0.000000        2.000000         4.000000   \n",
       "50%         1.000000               0.000000        3.000000         5.000000   \n",
       "75%         3.000000               0.000000        5.000000         7.000000   \n",
       "max        37.000000              33.000000       26.000000        38.000000   \n",
       "\n",
       "        num_bc_sats      num_bc_tl      num_il_tl  num_op_rev_tl  \\\n",
       "count  235629.00000  235629.000000  235629.000000  235629.000000   \n",
       "mean        4.64773       8.544008       8.572918       8.276592   \n",
       "std         2.72445       4.821962       7.302646       4.318805   \n",
       "min         0.00000       0.000000       0.000000       0.000000   \n",
       "25%         3.00000       5.000000       4.000000       5.000000   \n",
       "50%         4.00000       8.000000       7.000000       7.000000   \n",
       "75%         6.00000      11.000000      11.000000      10.000000   \n",
       "max        35.00000      61.000000     150.000000      62.000000   \n",
       "\n",
       "       num_rev_accts  num_rev_tl_bal_gt_0       num_sats   num_tl_30dpd  \\\n",
       "count  235629.000000        235629.000000  235629.000000  235629.000000   \n",
       "mean       15.298643             5.769557      11.618825       0.003722   \n",
       "std         8.055087             3.123751       5.266031       0.065202   \n",
       "min         2.000000             0.000000       0.000000       0.000000   \n",
       "25%         9.000000             4.000000       8.000000       0.000000   \n",
       "50%        14.000000             5.000000      11.000000       0.000000   \n",
       "75%        20.000000             7.000000      14.000000       0.000000   \n",
       "max       105.000000            38.000000      84.000000       4.000000   \n",
       "\n",
       "       num_tl_90g_dpd_24m  num_tl_op_past_12m  pct_tl_nvr_dlq  \\\n",
       "count       235629.000000       235629.000000   235629.000000   \n",
       "mean             0.094581            2.006892       94.239886   \n",
       "std              0.490951            1.604793        8.463073   \n",
       "min              0.000000            0.000000       16.700000   \n",
       "25%              0.000000            1.000000       91.400000   \n",
       "50%              0.000000            2.000000       97.600000   \n",
       "75%              0.000000            3.000000      100.000000   \n",
       "max             22.000000           26.000000      100.000000   \n",
       "\n",
       "       pub_rec_bankruptcies      tax_liens  tot_hi_cred_lim  \\\n",
       "count         235629.000000  235629.000000     2.356290e+05   \n",
       "mean               0.134873       0.055757     1.702490e+05   \n",
       "std                0.376381       0.409256     1.719961e+05   \n",
       "min                0.000000       0.000000     0.000000e+00   \n",
       "25%                0.000000       0.000000     4.780000e+04   \n",
       "50%                0.000000       0.000000     1.115140e+05   \n",
       "75%                0.000000       0.000000     2.475220e+05   \n",
       "max               12.000000      63.000000     9.999999e+06   \n",
       "\n",
       "       total_bal_ex_mort  total_bc_limit  total_il_high_credit_limit  \n",
       "count       2.356290e+05    2.356290e+05                2.356290e+05  \n",
       "mean        4.838943e+04    2.003141e+04                3.988339e+04  \n",
       "std         4.596607e+04    2.020999e+04                4.143171e+04  \n",
       "min         0.000000e+00    0.000000e+00                0.000000e+00  \n",
       "25%         2.076900e+04    7.000000e+03                1.359200e+04  \n",
       "50%         3.668500e+04    1.380000e+04                3.000000e+04  \n",
       "75%         6.082100e+04    2.620000e+04                5.356600e+04  \n",
       "max         2.688920e+06    1.090700e+06                1.241783e+06  "
      ]
     },
     "execution_count": 84,
     "metadata": {},
     "output_type": "execute_result"
    }
   ],
   "source": [
    "float_cols.describe()"
   ]
  },
  {
   "cell_type": "code",
   "execution_count": 85,
   "metadata": {
    "collapsed": false
   },
   "outputs": [],
   "source": [
    "# policy_code has the std of 0, its values are all the same\n",
    "# It's safe to remove both of them\n",
    "loans.drop('policy_code', axis=1, inplace=True)"
   ]
  },
  {
   "cell_type": "code",
   "execution_count": 86,
   "metadata": {
    "collapsed": false
   },
   "outputs": [
    {
     "data": {
      "text/plain": [
       "(235629, 96)"
      ]
     },
     "execution_count": 86,
     "metadata": {},
     "output_type": "execute_result"
    }
   ],
   "source": [
    "loans.shape"
   ]
  },
  {
   "cell_type": "markdown",
   "metadata": {},
   "source": [
    "### Check the datatime features"
   ]
  },
  {
   "cell_type": "code",
   "execution_count": 87,
   "metadata": {
    "collapsed": false
   },
   "outputs": [],
   "source": [
    "datetime_cols = loans[loans.dtypes[loans.dtypes == 'datetime64[ns]'].index]"
   ]
  },
  {
   "cell_type": "code",
   "execution_count": 88,
   "metadata": {
    "collapsed": false
   },
   "outputs": [
    {
     "name": "stdout",
     "output_type": "stream",
     "text": [
      "Series([], dtype: float64)\n"
     ]
    }
   ],
   "source": [
    "# check the NaT\n",
    "datetime_nulls = pd.isnull(datetime_cols).sum()\n",
    "print datetime_nulls"
   ]
  },
  {
   "cell_type": "code",
   "execution_count": 89,
   "metadata": {
    "collapsed": false
   },
   "outputs": [
    {
     "data": {
      "text/html": [
       "<div>\n",
       "<table border=\"1\" class=\"dataframe\">\n",
       "  <thead>\n",
       "    <tr style=\"text-align: right;\">\n",
       "      <th></th>\n",
       "      <th>loan_status</th>\n",
       "    </tr>\n",
       "  </thead>\n",
       "  <tbody>\n",
       "    <tr>\n",
       "      <th>0</th>\n",
       "      <td>Fully Paid</td>\n",
       "    </tr>\n",
       "    <tr>\n",
       "      <th>1</th>\n",
       "      <td>Current</td>\n",
       "    </tr>\n",
       "    <tr>\n",
       "      <th>2</th>\n",
       "      <td>Current</td>\n",
       "    </tr>\n",
       "    <tr>\n",
       "      <th>3</th>\n",
       "      <td>Charged Off</td>\n",
       "    </tr>\n",
       "    <tr>\n",
       "      <th>4</th>\n",
       "      <td>Fully Paid</td>\n",
       "    </tr>\n",
       "    <tr>\n",
       "      <th>5</th>\n",
       "      <td>Fully Paid</td>\n",
       "    </tr>\n",
       "    <tr>\n",
       "      <th>6</th>\n",
       "      <td>Fully Paid</td>\n",
       "    </tr>\n",
       "    <tr>\n",
       "      <th>7</th>\n",
       "      <td>Current</td>\n",
       "    </tr>\n",
       "    <tr>\n",
       "      <th>8</th>\n",
       "      <td>Fully Paid</td>\n",
       "    </tr>\n",
       "    <tr>\n",
       "      <th>9</th>\n",
       "      <td>Fully Paid</td>\n",
       "    </tr>\n",
       "    <tr>\n",
       "      <th>10</th>\n",
       "      <td>Current</td>\n",
       "    </tr>\n",
       "    <tr>\n",
       "      <th>11</th>\n",
       "      <td>Current</td>\n",
       "    </tr>\n",
       "    <tr>\n",
       "      <th>12</th>\n",
       "      <td>Charged Off</td>\n",
       "    </tr>\n",
       "    <tr>\n",
       "      <th>13</th>\n",
       "      <td>Charged Off</td>\n",
       "    </tr>\n",
       "    <tr>\n",
       "      <th>14</th>\n",
       "      <td>Fully Paid</td>\n",
       "    </tr>\n",
       "    <tr>\n",
       "      <th>15</th>\n",
       "      <td>Current</td>\n",
       "    </tr>\n",
       "    <tr>\n",
       "      <th>16</th>\n",
       "      <td>Current</td>\n",
       "    </tr>\n",
       "    <tr>\n",
       "      <th>17</th>\n",
       "      <td>Fully Paid</td>\n",
       "    </tr>\n",
       "    <tr>\n",
       "      <th>18</th>\n",
       "      <td>Current</td>\n",
       "    </tr>\n",
       "    <tr>\n",
       "      <th>19</th>\n",
       "      <td>Fully Paid</td>\n",
       "    </tr>\n",
       "    <tr>\n",
       "      <th>20</th>\n",
       "      <td>Current</td>\n",
       "    </tr>\n",
       "    <tr>\n",
       "      <th>21</th>\n",
       "      <td>Current</td>\n",
       "    </tr>\n",
       "    <tr>\n",
       "      <th>22</th>\n",
       "      <td>Current</td>\n",
       "    </tr>\n",
       "    <tr>\n",
       "      <th>23</th>\n",
       "      <td>Current</td>\n",
       "    </tr>\n",
       "    <tr>\n",
       "      <th>24</th>\n",
       "      <td>Fully Paid</td>\n",
       "    </tr>\n",
       "    <tr>\n",
       "      <th>25</th>\n",
       "      <td>Current</td>\n",
       "    </tr>\n",
       "    <tr>\n",
       "      <th>26</th>\n",
       "      <td>Current</td>\n",
       "    </tr>\n",
       "    <tr>\n",
       "      <th>27</th>\n",
       "      <td>Fully Paid</td>\n",
       "    </tr>\n",
       "    <tr>\n",
       "      <th>28</th>\n",
       "      <td>Current</td>\n",
       "    </tr>\n",
       "    <tr>\n",
       "      <th>29</th>\n",
       "      <td>Charged Off</td>\n",
       "    </tr>\n",
       "    <tr>\n",
       "      <th>...</th>\n",
       "      <td>...</td>\n",
       "    </tr>\n",
       "    <tr>\n",
       "      <th>970</th>\n",
       "      <td>Fully Paid</td>\n",
       "    </tr>\n",
       "    <tr>\n",
       "      <th>971</th>\n",
       "      <td>Fully Paid</td>\n",
       "    </tr>\n",
       "    <tr>\n",
       "      <th>972</th>\n",
       "      <td>Fully Paid</td>\n",
       "    </tr>\n",
       "    <tr>\n",
       "      <th>973</th>\n",
       "      <td>Current</td>\n",
       "    </tr>\n",
       "    <tr>\n",
       "      <th>974</th>\n",
       "      <td>Current</td>\n",
       "    </tr>\n",
       "    <tr>\n",
       "      <th>975</th>\n",
       "      <td>Current</td>\n",
       "    </tr>\n",
       "    <tr>\n",
       "      <th>976</th>\n",
       "      <td>Fully Paid</td>\n",
       "    </tr>\n",
       "    <tr>\n",
       "      <th>977</th>\n",
       "      <td>Current</td>\n",
       "    </tr>\n",
       "    <tr>\n",
       "      <th>978</th>\n",
       "      <td>Late (31-120 days)</td>\n",
       "    </tr>\n",
       "    <tr>\n",
       "      <th>979</th>\n",
       "      <td>Fully Paid</td>\n",
       "    </tr>\n",
       "    <tr>\n",
       "      <th>980</th>\n",
       "      <td>Fully Paid</td>\n",
       "    </tr>\n",
       "    <tr>\n",
       "      <th>981</th>\n",
       "      <td>Fully Paid</td>\n",
       "    </tr>\n",
       "    <tr>\n",
       "      <th>982</th>\n",
       "      <td>Current</td>\n",
       "    </tr>\n",
       "    <tr>\n",
       "      <th>983</th>\n",
       "      <td>Current</td>\n",
       "    </tr>\n",
       "    <tr>\n",
       "      <th>984</th>\n",
       "      <td>Current</td>\n",
       "    </tr>\n",
       "    <tr>\n",
       "      <th>985</th>\n",
       "      <td>Current</td>\n",
       "    </tr>\n",
       "    <tr>\n",
       "      <th>986</th>\n",
       "      <td>Current</td>\n",
       "    </tr>\n",
       "    <tr>\n",
       "      <th>987</th>\n",
       "      <td>Current</td>\n",
       "    </tr>\n",
       "    <tr>\n",
       "      <th>988</th>\n",
       "      <td>Fully Paid</td>\n",
       "    </tr>\n",
       "    <tr>\n",
       "      <th>989</th>\n",
       "      <td>Current</td>\n",
       "    </tr>\n",
       "    <tr>\n",
       "      <th>990</th>\n",
       "      <td>Fully Paid</td>\n",
       "    </tr>\n",
       "    <tr>\n",
       "      <th>991</th>\n",
       "      <td>Current</td>\n",
       "    </tr>\n",
       "    <tr>\n",
       "      <th>992</th>\n",
       "      <td>Current</td>\n",
       "    </tr>\n",
       "    <tr>\n",
       "      <th>993</th>\n",
       "      <td>Fully Paid</td>\n",
       "    </tr>\n",
       "    <tr>\n",
       "      <th>994</th>\n",
       "      <td>Fully Paid</td>\n",
       "    </tr>\n",
       "    <tr>\n",
       "      <th>995</th>\n",
       "      <td>Fully Paid</td>\n",
       "    </tr>\n",
       "    <tr>\n",
       "      <th>996</th>\n",
       "      <td>Current</td>\n",
       "    </tr>\n",
       "    <tr>\n",
       "      <th>997</th>\n",
       "      <td>Current</td>\n",
       "    </tr>\n",
       "    <tr>\n",
       "      <th>998</th>\n",
       "      <td>Fully Paid</td>\n",
       "    </tr>\n",
       "    <tr>\n",
       "      <th>999</th>\n",
       "      <td>Current</td>\n",
       "    </tr>\n",
       "  </tbody>\n",
       "</table>\n",
       "<p>1000 rows × 1 columns</p>\n",
       "</div>"
      ],
      "text/plain": [
       "            loan_status\n",
       "0            Fully Paid\n",
       "1               Current\n",
       "2               Current\n",
       "3           Charged Off\n",
       "4            Fully Paid\n",
       "5            Fully Paid\n",
       "6            Fully Paid\n",
       "7               Current\n",
       "8            Fully Paid\n",
       "9            Fully Paid\n",
       "10              Current\n",
       "11              Current\n",
       "12          Charged Off\n",
       "13          Charged Off\n",
       "14           Fully Paid\n",
       "15              Current\n",
       "16              Current\n",
       "17           Fully Paid\n",
       "18              Current\n",
       "19           Fully Paid\n",
       "20              Current\n",
       "21              Current\n",
       "22              Current\n",
       "23              Current\n",
       "24           Fully Paid\n",
       "25              Current\n",
       "26              Current\n",
       "27           Fully Paid\n",
       "28              Current\n",
       "29          Charged Off\n",
       "..                  ...\n",
       "970          Fully Paid\n",
       "971          Fully Paid\n",
       "972          Fully Paid\n",
       "973             Current\n",
       "974             Current\n",
       "975             Current\n",
       "976          Fully Paid\n",
       "977             Current\n",
       "978  Late (31-120 days)\n",
       "979          Fully Paid\n",
       "980          Fully Paid\n",
       "981          Fully Paid\n",
       "982             Current\n",
       "983             Current\n",
       "984             Current\n",
       "985             Current\n",
       "986             Current\n",
       "987             Current\n",
       "988          Fully Paid\n",
       "989             Current\n",
       "990          Fully Paid\n",
       "991             Current\n",
       "992             Current\n",
       "993          Fully Paid\n",
       "994          Fully Paid\n",
       "995          Fully Paid\n",
       "996             Current\n",
       "997             Current\n",
       "998          Fully Paid\n",
       "999             Current\n",
       "\n",
       "[1000 rows x 1 columns]"
      ]
     },
     "execution_count": 89,
     "metadata": {},
     "output_type": "execute_result"
    }
   ],
   "source": [
    "# Intuitively, let's check if payment dates are related to loan_status\n",
    "datetime_nulls_cols = datetime_nulls.index.values\n",
    "datetime_nulls_cols = np.append(datetime_nulls_cols, 'loan_status')\n",
    "loans[datetime_nulls_cols].head(1000)\n",
    "# We can find if nex_payment_d == 'NaT', the loan_status is all about not 'Current' status, which makes sense."
   ]
  },
  {
   "cell_type": "code",
   "execution_count": 90,
   "metadata": {
    "collapsed": true
   },
   "outputs": [],
   "source": [
    "# last_pymnt_d: Last month payment was received\n",
    "# next_pymnt_d: Next scheduled payment date\n",
    "# last_credit_pull_d: The most recent month LC pulled credit for this loan"
   ]
  },
  {
   "cell_type": "code",
   "execution_count": 91,
   "metadata": {
    "collapsed": false
   },
   "outputs": [
    {
     "data": {
      "text/plain": [
       "array(['Fully Paid', 'Current', 'Charged Off', 'Default',\n",
       "       'Late (31-120 days)', 'In Grace Period', 'Late (16-30 days)'], dtype=object)"
      ]
     },
     "execution_count": 91,
     "metadata": {},
     "output_type": "execute_result"
    }
   ],
   "source": [
    "loans.loan_status.unique()"
   ]
  },
  {
   "cell_type": "code",
   "execution_count": 92,
   "metadata": {
    "collapsed": false
   },
   "outputs": [
    {
     "name": "stdout",
     "output_type": "stream",
     "text": [
      "if next_pymnt_d is 'NaT, the number of status that is neither 'Current' nor 'Fully Paid': \n",
      "0\n",
      "if next_pymnt_d is 'NaT, the number of status that is either 'Current' nor 'Fully Paid': \n",
      "0\n",
      "if next_pymnt_d is not 'NaT, the number of status that is neither 'Current' nor 'Fully Paid': \n",
      "140458\n",
      "if next_pymnt_d is not 'NaT, the number of status that is either 'Current' nor 'Fully Paid': \n",
      "95171\n"
     ]
    }
   ],
   "source": [
    "# Loan status: Current => Fully Paid(0) => In Grace Period(0-15) => Late (16-30 days) => Late (31-120 days) => Default => 'Charged Off'\n",
    "print \"if next_pymnt_d is 'NaT, the number of status that is neither 'Current' nor 'Fully Paid': \"\n",
    "print sum(loans[pd.isnull(loans.next_pymnt_d)].loan_status.apply(lambda x : x in ['Current', 'In Grace Period', 'Late (31-120 days)', 'Late (16-30 days)', 'Default']))\n",
    "print \"if next_pymnt_d is 'NaT, the number of status that is either 'Current' nor 'Fully Paid': \"\n",
    "print sum(loans[pd.isnull(loans.next_pymnt_d)].loan_status.apply(lambda x : x in ['Fully Paid', 'Charged Off']))\n",
    "\n",
    "print \"if next_pymnt_d is not 'NaT, the number of status that is neither 'Current' nor 'Fully Paid': \"\n",
    "print sum(loans[-pd.isnull(loans.next_pymnt_d)].loan_status.apply(lambda x : x in ['Current', 'In Grace Period', 'Late (31-120 days)', 'Late (16-30 days)', 'Default']))\n",
    "print \"if next_pymnt_d is not 'NaT, the number of status that is either 'Current' nor 'Fully Paid': \"\n",
    "print sum(loans[-pd.isnull(loans.next_pymnt_d)].loan_status.apply(lambda x : x in ['Fully Paid', 'Charged Off']))\n"
   ]
  },
  {
   "cell_type": "markdown",
   "metadata": {},
   "source": [
    "- payment dates and loan_status are the same thing with different representations, just keep one loan_status\n",
    "- last_credit_pull_d is also related with loan_status and last_pymnt_d\n",
    "- Most importantly, all dates including issue_date are meaningless to predict loan_status, it's impossible to known the final dates to give a status."
   ]
  },
  {
   "cell_type": "code",
   "execution_count": 93,
   "metadata": {
    "collapsed": false
   },
   "outputs": [],
   "source": [
    "# create a new feature credit length\n",
    "loans['cr_len'] = (loans.issue_d.dt.date - loans.earliest_cr_line.dt.date).dt.days"
   ]
  },
  {
   "cell_type": "code",
   "execution_count": 94,
   "metadata": {
    "collapsed": true
   },
   "outputs": [],
   "source": [
    "# post-feature, drop all payment dates, but we keep issue_d to split the train and test data\n",
    "loans.drop(['last_pymnt_d', 'next_pymnt_d', 'last_credit_pull_d', 'earliest_cr_line'], axis=1, inplace=True)"
   ]
  },
  {
   "cell_type": "markdown",
   "metadata": {},
   "source": [
    "### Remove columns with loan status of 'Current' and 'Default'"
   ]
  },
  {
   "cell_type": "code",
   "execution_count": 95,
   "metadata": {
    "collapsed": true
   },
   "outputs": [],
   "source": [
    "loans = loans[loans.loan_status != 'Current']"
   ]
  },
  {
   "cell_type": "code",
   "execution_count": 96,
   "metadata": {
    "collapsed": true
   },
   "outputs": [],
   "source": [
    "loans = loans[loans.loan_status != 'Default']"
   ]
  },
  {
   "cell_type": "code",
   "execution_count": 97,
   "metadata": {
    "collapsed": false
   },
   "outputs": [
    {
     "data": {
      "text/plain": [
       "Fully Paid            73905\n",
       "Charged Off           21266\n",
       "Late (31-120 days)     3940\n",
       "In Grace Period        2522\n",
       "Late (16-30 days)       817\n",
       "Name: loan_status, dtype: int64"
      ]
     },
     "execution_count": 97,
     "metadata": {},
     "output_type": "execute_result"
    }
   ],
   "source": [
    "loans.loan_status.value_counts()"
   ]
  },
  {
   "cell_type": "code",
   "execution_count": 98,
   "metadata": {
    "collapsed": false
   },
   "outputs": [
    {
     "data": {
      "text/plain": [
       "(102450, 93)"
      ]
     },
     "execution_count": 98,
     "metadata": {},
     "output_type": "execute_result"
    }
   ],
   "source": [
    "loans.shape"
   ]
  },
  {
   "cell_type": "markdown",
   "metadata": {},
   "source": [
    "- check the correlation amongst numeric values"
   ]
  },
  {
   "cell_type": "code",
   "execution_count": 99,
   "metadata": {
    "collapsed": false
   },
   "outputs": [],
   "source": [
    "float_cols = loans[loans.dtypes[loans.dtypes == 'float64'].index]"
   ]
  },
  {
   "cell_type": "code",
   "execution_count": 100,
   "metadata": {
    "collapsed": false
   },
   "outputs": [
    {
     "data": {
      "text/plain": [
       "<matplotlib.image.AxesImage at 0x12deb6a10>"
      ]
     },
     "execution_count": 100,
     "metadata": {},
     "output_type": "execute_result"
    },
    {
     "data": {
      "image/png": "[encoded data removed]",
      "text/plain": [
       "<matplotlib.figure.Figure at 0x116bbafd0>"
      ]
     },
     "metadata": {},
     "output_type": "display_data"
    }
   ],
   "source": [
    "plt.matshow(float_cols.corr())"
   ]
  },
  {
   "cell_type": "code",
   "execution_count": 101,
   "metadata": {
    "collapsed": false
   },
   "outputs": [],
   "source": [
    "corrs = float_cols.corr().abs().unstack().order(kind=\"quicksort\", ascending=False)"
   ]
  },
  {
   "cell_type": "code",
   "execution_count": 102,
   "metadata": {
    "collapsed": false
   },
   "outputs": [
    {
     "data": {
      "text/plain": [
       "out_prncp            out_prncp_inv      0.999999\n",
       "open_acc             num_sats           0.998487\n",
       "num_rev_tl_bal_gt_0  num_actv_rev_tl    0.986769\n",
       "tot_hi_cred_lim      tot_cur_bal        0.967795\n",
       "loan_amnt            installment        0.954092\n",
       "dtype: float64"
      ]
     },
     "execution_count": 102,
     "metadata": {},
     "output_type": "execute_result"
    }
   ],
   "source": [
    "corrs[corrs.between(0.5, 1, inclusive=False)][1::2].head()"
   ]
  },
  {
   "cell_type": "markdown",
   "metadata": {},
   "source": [
    "### Save the file"
   ]
  },
  {
   "cell_type": "code",
   "execution_count": 103,
   "metadata": {
    "collapsed": false
   },
   "outputs": [],
   "source": [
    "loans = loans.reset_index(drop=True)"
   ]
  },
  {
   "cell_type": "code",
   "execution_count": 106,
   "metadata": {
    "collapsed": true
   },
   "outputs": [],
   "source": [
    "loans.to_csv('./loans.w1.csv', index=False, na_rep='')"
   ]
  },
  {
   "cell_type": "code",
   "execution_count": 51,
   "metadata": {
    "collapsed": false
   },
   "outputs": [
    {
     "data": {
      "text/plain": [
       "dtype('O')"
      ]
     },
     "execution_count": 51,
     "metadata": {},
     "output_type": "execute_result"
    }
   ],
   "source": [
    "loans.zip_code.dtype"
   ]
  },
  {
   "cell_type": "code",
   "execution_count": 105,
   "metadata": {
    "collapsed": false
   },
   "outputs": [
    {
     "data": {
      "text/plain": [
       "loan_amnt                         0\n",
       "term                              0\n",
       "int_rate                          0\n",
       "installment                       0\n",
       "grade                             0\n",
       "sub_grade                         0\n",
       "emp_title                         0\n",
       "emp_length                        0\n",
       "home_ownership                    0\n",
       "annual_inc                        0\n",
       "verification_status               0\n",
       "issue_d                           0\n",
       "loan_status                       0\n",
       "pymnt_plan                        0\n",
       "desc                              0\n",
       "purpose                           0\n",
       "title                             0\n",
       "zip_code                          0\n",
       "addr_state                        0\n",
       "dti                               0\n",
       "delinq_2yrs                       0\n",
       "inq_last_6mths                    0\n",
       "mths_since_last_delinq            0\n",
       "mths_since_last_record            0\n",
       "open_acc                          0\n",
       "pub_rec                           0\n",
       "revol_bal                         0\n",
       "revol_util                        0\n",
       "total_acc                         0\n",
       "initial_list_status               0\n",
       "                                 ..\n",
       "mo_sin_rcnt_rev_tl_op             0\n",
       "mo_sin_rcnt_tl                    0\n",
       "mort_acc                          0\n",
       "mths_since_recent_bc              0\n",
       "mths_since_recent_bc_dlq          0\n",
       "mths_since_recent_inq             0\n",
       "mths_since_recent_revol_delinq    0\n",
       "num_accts_ever_120_pd             0\n",
       "num_actv_bc_tl                    0\n",
       "num_actv_rev_tl                   0\n",
       "num_bc_sats                       0\n",
       "num_bc_tl                         0\n",
       "num_il_tl                         0\n",
       "num_op_rev_tl                     0\n",
       "num_rev_accts                     0\n",
       "num_rev_tl_bal_gt_0               0\n",
       "num_sats                          0\n",
       "num_tl_120dpd_2m                  0\n",
       "num_tl_30dpd                      0\n",
       "num_tl_90g_dpd_24m                0\n",
       "num_tl_op_past_12m                0\n",
       "pct_tl_nvr_dlq                    0\n",
       "percent_bc_gt_75                  0\n",
       "pub_rec_bankruptcies              0\n",
       "tax_liens                         0\n",
       "tot_hi_cred_lim                   0\n",
       "total_bal_ex_mort                 0\n",
       "total_bc_limit                    0\n",
       "total_il_high_credit_limit        0\n",
       "cr_len                            0\n",
       "dtype: int64"
      ]
     },
     "execution_count": 105,
     "metadata": {},
     "output_type": "execute_result"
    }
   ],
   "source": [
    "np.sum(pd.isnull(loans), axis=0)"
   ]
  },
  {
   "cell_type": "code",
   "execution_count": null,
   "metadata": {
    "collapsed": true
   },
   "outputs": [],
   "source": []
  }
 ],
 "metadata": {
  "kernelspec": {
   "display_name": "Python 2",
   "language": "python",
   "name": "python2"
  },
  "language_info": {
   "codemirror_mode": {
    "name": "ipython",
    "version": 2
   },
   "file_extension": ".py",
   "mimetype": "text/x-python",
   "name": "python",
   "nbconvert_exporter": "python",
   "pygments_lexer": "ipython2",
   "version": "2.7.10"
  },
  "widgets": {
   "state": {},
   "version": "1.1.2"
  }
 },
 "nbformat": 4,
 "nbformat_minor": 0
}
